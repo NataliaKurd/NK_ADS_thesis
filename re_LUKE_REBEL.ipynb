{
 "cells": [
  {
   "cell_type": "code",
   "execution_count": 1,
   "metadata": {},
   "outputs": [
    {
     "name": "stderr",
     "output_type": "stream",
     "text": [
      "/home/devuser1/miniconda3/envs/python3_11/lib/python3.11/site-packages/tqdm/auto.py:21: TqdmWarning: IProgress not found. Please update jupyter and ipywidgets. See https://ipywidgets.readthedocs.io/en/stable/user_install.html\n",
      "  from .autonotebook import tqdm as notebook_tqdm\n"
     ]
    }
   ],
   "source": [
    "import json\n",
    "import random\n",
    "import pandas as pd\n",
    "import numpy as np\n",
    "from itertools import combinations, permutations\n",
    "from tqdm.auto import tqdm\n",
    "\n",
    "# plots\n",
    "import matplotlib.pyplot as plt\n",
    "import seaborn as sns\n",
    "\n",
    "# to split text into sentences\n",
    "from nltk.tokenize import sent_tokenize\n",
    "\n",
    "# train/test split, and evaluation\n",
    "from sklearn.model_selection import train_test_split\n",
    "\n",
    "# for model fine-tuning, inference\n",
    "import torch\n",
    "from torch.utils.data import Dataset, DataLoader\n",
    "\n",
    "# LUKE model\n",
    "from transformers import LukeTokenizer, LukeForEntityPairClassification, \\\n",
    "    DataCollatorWithPadding, AdamW, get_scheduler, DataCollatorForSeq2Seq\n",
    "\n",
    "# REBEL model\n",
    "\n",
    "from transformers import AutoModelForSeq2SeqLM, AutoTokenizer\n",
    "\n",
    "plt.style.use('seaborn-v0_8')"
   ]
  },
  {
   "cell_type": "code",
   "execution_count": 2,
   "metadata": {},
   "outputs": [],
   "source": [
    "path_to_data = '../benchmark_data/'\n",
    "path_to_models = 'models/'\n",
    "path_to_results = 'results/'\n",
    "path_to_plots = 'plots/'"
   ]
  },
  {
   "cell_type": "markdown",
   "metadata": {},
   "source": [
    "# RE, Data"
   ]
  },
  {
   "cell_type": "code",
   "execution_count": 3,
   "metadata": {},
   "outputs": [],
   "source": [
    "results = pd.DataFrame(columns=['model_name', 'macro_precision', 'macro_recall', 'macro_f1', 'p_works_at', 'p_partners_with', 'p_acquired_by', 'r_works_at', 'r_partners_with', 'r_acquired_by', 'f1_works_at', 'f1_partners_with', 'f1_acquired_by'])"
   ]
  },
  {
   "cell_type": "code",
   "execution_count": 4,
   "metadata": {},
   "outputs": [],
   "source": [
    "class NoSentenceError(Exception):\n",
    "    pass\n",
    "\n",
    "def get_sentence(text, span):\n",
    "    \"\"\"Returns sentence for the given span\"\"\"\n",
    "\n",
    "    sentences = sent_tokenize(text)\n",
    "    for sentence in sentences:\n",
    "        start_idx = text.find(sentence)\n",
    "        end_idx = start_idx + len(sentence)\n",
    "        if span[0] >= start_idx and span[1] <= end_idx:\n",
    "            return sentence, start_idx\n",
    "    \n",
    "    raise NoSentenceError(\"entities are not in one sentence\")\n",
    "\n",
    "def adjust_span(span, offset):\n",
    "    \"\"\"Adjusts span\"\"\"\n",
    "\n",
    "    return (span[0] - offset, span[1] - offset)\n",
    "\n",
    "def transform_json_re(path, additional_rows=100):\n",
    "    \"\"\"Transfomrs json file into dataframe with entity relations, adds also rows with no relation\"\"\"\n",
    "\n",
    "    with open(path) as f:\n",
    "        data = json.load(f)\n",
    "\n",
    "    texts = []\n",
    "    entity_pairs = []\n",
    "    entity_spans_pairs = []\n",
    "    relation_labels = []\n",
    "\n",
    "    total_additional_rows = 0\n",
    "\n",
    "    for item in data:\n",
    "        item_entities = {}\n",
    "        text = item['data']['text']\n",
    "        annotations = item['annotations'][0]['result']\n",
    "\n",
    "        related_pairs = set()\n",
    "        for annotation in annotations:\n",
    "\n",
    "            # first create list of entities in this text\n",
    "            if annotation['type'] == 'labels':\n",
    "                entity_span = (annotation['value']['start'], annotation['value']['end'])\n",
    "                entity_text = annotation['value']['text']\n",
    "                entity_id = annotation['id']\n",
    "                entity_label = annotation['value']['labels'][0]\n",
    "                item_entities[entity_id] = {'text': entity_text, 'span': entity_span, 'label': entity_label}\n",
    "\n",
    "            # create entity pairs according to annotations\n",
    "            elif annotation['type'] == 'relation':\n",
    "                from_entity = item_entities[annotation['from_id']]\n",
    "                to_entity = item_entities[annotation['to_id']]\n",
    "                try:\n",
    "                    label = annotation['labels'][0]\n",
    "                except KeyError:\n",
    "                    # if the labels is missing skip annotation\n",
    "                    continue\n",
    "\n",
    "                from_span = from_entity['span']\n",
    "                to_span = to_entity['span']\n",
    "\n",
    "                try: \n",
    "                    if from_span[0] < to_span[0]:\n",
    "                        sentence, offset = get_sentence(text, (from_span[0], to_span[1]))\n",
    "                    else:\n",
    "                        sentence, offset = get_sentence(text, (to_span[0], from_span[1]))\n",
    "                except NoSentenceError as e:\n",
    "                    print(e)\n",
    "                    continue\n",
    "\n",
    "                # adjust span of the entities according to the sentence\n",
    "                from_span_adjusted = adjust_span(from_span, offset)\n",
    "                to_span_adjusted = adjust_span(to_span, offset)\n",
    "\n",
    "                # add relation to the dataframe\n",
    "                texts.append(sentence)\n",
    "                entity_pairs.append((from_entity['text'], to_entity['text']))\n",
    "                entity_spans_pairs.append((from_span_adjusted, to_span_adjusted))\n",
    "                relation_labels.append(label)\n",
    "\n",
    "                # list of entity pairs that are actually related\n",
    "                related_pairs.add((from_entity['text'], to_entity['text']))\n",
    "\n",
    "        # create all possible pairs of the entities in this text\n",
    "        all_entities = list(item_entities.values())\n",
    "        all_pairs = list(permutations(all_entities, 2))\n",
    "\n",
    "        # entity pairs that does not have a relation\n",
    "        non_related_pairs = [(e1, e2) for e1, e2 in all_pairs if (e1['text'], e2['text']) not in related_pairs]\n",
    "\n",
    "        random.seed(4)\n",
    "        random.shuffle(non_related_pairs)\n",
    "        for non_related_pair in non_related_pairs:\n",
    "            if total_additional_rows >= additional_rows:\n",
    "                break\n",
    "\n",
    "            e1, e2 = non_related_pair\n",
    "            from_span = e1['span']\n",
    "            to_span = e2['span']\n",
    "\n",
    "            try: \n",
    "                if from_span[0] < to_span[0]:\n",
    "                    sentence, offset = get_sentence(text, (from_span[0], to_span[1]))\n",
    "                else:\n",
    "                    sentence, offset = get_sentence(text, (to_span[0], from_span[1]))\n",
    "            except NoSentenceError as e:\n",
    "                continue\n",
    "\n",
    "            from_span_adjusted = adjust_span(from_span, offset)\n",
    "            to_span_adjusted = adjust_span(to_span, offset)\n",
    "\n",
    "            texts.append(sentence)\n",
    "            entity_pairs.append((e1['text'], e2['text']))\n",
    "            entity_spans_pairs.append((from_span_adjusted, to_span_adjusted))\n",
    "            relation_labels.append('NIL')\n",
    "\n",
    "            total_additional_rows += 1\n",
    "\n",
    "    df = pd.DataFrame({'text': texts, 'entity_pairs': entity_pairs, 'entity_spans_pairs': entity_spans_pairs, 'label': relation_labels})\n",
    "    return df\n"
   ]
  },
  {
   "cell_type": "code",
   "execution_count": 5,
   "metadata": {},
   "outputs": [
    {
     "name": "stdout",
     "output_type": "stream",
     "text": [
      "entities are not in one sentence\n",
      "entities are not in one sentence\n",
      "entities are not in one sentence\n",
      "entities are not in one sentence\n",
      "entities are not in one sentence\n",
      "entities are not in one sentence\n",
      "entities are not in one sentence\n",
      "entities are not in one sentence\n",
      "entities are not in one sentence\n"
     ]
    },
    {
     "data": {
      "text/html": [
       "<div>\n",
       "<style scoped>\n",
       "    .dataframe tbody tr th:only-of-type {\n",
       "        vertical-align: middle;\n",
       "    }\n",
       "\n",
       "    .dataframe tbody tr th {\n",
       "        vertical-align: top;\n",
       "    }\n",
       "\n",
       "    .dataframe thead th {\n",
       "        text-align: right;\n",
       "    }\n",
       "</style>\n",
       "<table border=\"1\" class=\"dataframe\">\n",
       "  <thead>\n",
       "    <tr style=\"text-align: right;\">\n",
       "      <th></th>\n",
       "      <th>text</th>\n",
       "      <th>entity_pairs</th>\n",
       "      <th>entity_spans_pairs</th>\n",
       "      <th>label</th>\n",
       "    </tr>\n",
       "  </thead>\n",
       "  <tbody>\n",
       "    <tr>\n",
       "      <th>0</th>\n",
       "      <td>A Ukrainian officer interviewed by The New Yor...</td>\n",
       "      <td>(RT.com, Vladimir Zelensky)</td>\n",
       "      <td>((156, 162), (73, 90))</td>\n",
       "      <td>NIL</td>\n",
       "    </tr>\n",
       "    <tr>\n",
       "      <th>1</th>\n",
       "      <td>A Ukrainian officer interviewed by The New Yor...</td>\n",
       "      <td>(The New Yorker, Vladimir Zelensky)</td>\n",
       "      <td>((35, 49), (73, 90))</td>\n",
       "      <td>NIL</td>\n",
       "    </tr>\n",
       "    <tr>\n",
       "      <th>2</th>\n",
       "      <td>A Ukrainian officer interviewed by The New Yor...</td>\n",
       "      <td>(Vladimir Zelensky, The New Yorker)</td>\n",
       "      <td>((73, 90), (35, 49))</td>\n",
       "      <td>NIL</td>\n",
       "    </tr>\n",
       "    <tr>\n",
       "      <th>3</th>\n",
       "      <td>A Ukrainian officer interviewed by The New Yor...</td>\n",
       "      <td>(RT.com, The New Yorker)</td>\n",
       "      <td>((156, 162), (35, 49))</td>\n",
       "      <td>NIL</td>\n",
       "    </tr>\n",
       "    <tr>\n",
       "      <th>4</th>\n",
       "      <td>A Ukrainian officer interviewed by The New Yor...</td>\n",
       "      <td>(The New Yorker, RT.com)</td>\n",
       "      <td>((35, 49), (156, 162))</td>\n",
       "      <td>NIL</td>\n",
       "    </tr>\n",
       "    <tr>\n",
       "      <th>...</th>\n",
       "      <td>...</td>\n",
       "      <td>...</td>\n",
       "      <td>...</td>\n",
       "      <td>...</td>\n",
       "    </tr>\n",
       "    <tr>\n",
       "      <th>420</th>\n",
       "      <td>said David Evans, CEO of TCG World.</td>\n",
       "      <td>(David Evans, TCG World)</td>\n",
       "      <td>((5, 16), (25, 34))</td>\n",
       "      <td>works_at</td>\n",
       "    </tr>\n",
       "    <tr>\n",
       "      <th>421</th>\n",
       "      <td>\"Downtown has a history of being at the forefr...</td>\n",
       "      <td>(Downtown, TCG World)</td>\n",
       "      <td>((1, 9), (173, 182))</td>\n",
       "      <td>partners_with</td>\n",
       "    </tr>\n",
       "    <tr>\n",
       "      <th>422</th>\n",
       "      <td>Adds Loredana Cacciotti, EVP, Digital Revenue ...</td>\n",
       "      <td>(Loredana Cacciotti, Downtown Music)</td>\n",
       "      <td>((5, 23), (61, 75))</td>\n",
       "      <td>works_at</td>\n",
       "    </tr>\n",
       "    <tr>\n",
       "      <th>423</th>\n",
       "      <td>Azelis Expands Its Portfolio in Germany With t...</td>\n",
       "      <td>(DBH Osthandelsgesellschaft mbH, Azelis)</td>\n",
       "      <td>((102, 132), (0, 6))</td>\n",
       "      <td>acquired_by</td>\n",
       "    </tr>\n",
       "    <tr>\n",
       "      <th>424</th>\n",
       "      <td>Regulatory News: Azelis (Brussels:AZE), a lead...</td>\n",
       "      <td>(DBH Osthandelsgesellschaft mbH, Azelis)</td>\n",
       "      <td>((225, 255), (17, 23))</td>\n",
       "      <td>acquired_by</td>\n",
       "    </tr>\n",
       "  </tbody>\n",
       "</table>\n",
       "<p>425 rows × 4 columns</p>\n",
       "</div>"
      ],
      "text/plain": [
       "                                                  text  \\\n",
       "0    A Ukrainian officer interviewed by The New Yor...   \n",
       "1    A Ukrainian officer interviewed by The New Yor...   \n",
       "2    A Ukrainian officer interviewed by The New Yor...   \n",
       "3    A Ukrainian officer interviewed by The New Yor...   \n",
       "4    A Ukrainian officer interviewed by The New Yor...   \n",
       "..                                                 ...   \n",
       "420                said David Evans, CEO of TCG World.   \n",
       "421  \"Downtown has a history of being at the forefr...   \n",
       "422  Adds Loredana Cacciotti, EVP, Digital Revenue ...   \n",
       "423  Azelis Expands Its Portfolio in Germany With t...   \n",
       "424  Regulatory News: Azelis (Brussels:AZE), a lead...   \n",
       "\n",
       "                                 entity_pairs      entity_spans_pairs  \\\n",
       "0                 (RT.com, Vladimir Zelensky)  ((156, 162), (73, 90))   \n",
       "1         (The New Yorker, Vladimir Zelensky)    ((35, 49), (73, 90))   \n",
       "2         (Vladimir Zelensky, The New Yorker)    ((73, 90), (35, 49))   \n",
       "3                    (RT.com, The New Yorker)  ((156, 162), (35, 49))   \n",
       "4                    (The New Yorker, RT.com)  ((35, 49), (156, 162))   \n",
       "..                                        ...                     ...   \n",
       "420                  (David Evans, TCG World)     ((5, 16), (25, 34))   \n",
       "421                     (Downtown, TCG World)    ((1, 9), (173, 182))   \n",
       "422      (Loredana Cacciotti, Downtown Music)     ((5, 23), (61, 75))   \n",
       "423  (DBH Osthandelsgesellschaft mbH, Azelis)    ((102, 132), (0, 6))   \n",
       "424  (DBH Osthandelsgesellschaft mbH, Azelis)  ((225, 255), (17, 23))   \n",
       "\n",
       "             label  \n",
       "0              NIL  \n",
       "1              NIL  \n",
       "2              NIL  \n",
       "3              NIL  \n",
       "4              NIL  \n",
       "..             ...  \n",
       "420       works_at  \n",
       "421  partners_with  \n",
       "422       works_at  \n",
       "423    acquired_by  \n",
       "424    acquired_by  \n",
       "\n",
       "[425 rows x 4 columns]"
      ]
     },
     "execution_count": 5,
     "metadata": {},
     "output_type": "execute_result"
    }
   ],
   "source": [
    "df_re = transform_json_re(path_to_data + 'annotations.json')\n",
    "\n",
    "id2label = {0: 'NIL', 1: 'works_at', 2: 'partners_with', 3: 'acquired_by'}\n",
    "label2id = {'NIL': 0, 'works_at': 1, 'partners_with': 2, 'acquired_by': 3}\n",
    "\n",
    "train_split = pd.read_csv(path_to_data + 'train_test_split/train.csv')\n",
    "test_split = pd.read_csv(path_to_data + 'train_test_split/test.csv')\n",
    "\n",
    "train_df = pd.merge(df_re, train_split, how='inner', on='text')\n",
    "test_df = pd.merge(df_re, test_split, how='inner', on='text')\n",
    "\n",
    "df_re"
   ]
  },
  {
   "cell_type": "code",
   "execution_count": 6,
   "metadata": {},
   "outputs": [
    {
     "data": {
      "image/png": "[encoded data removed]",
      "text/plain": [
       "<Figure size 1000x600 with 1 Axes>"
      ]
     },
     "metadata": {},
     "output_type": "display_data"
    }
   ],
   "source": [
    "# histogram, relation types\n",
    "\n",
    "plt.figure(figsize=(10, 6))\n",
    "value_counts = df_re['label'].value_counts()\n",
    "ax = value_counts.plot(kind='bar')\n",
    "\n",
    "# Adding text annotations\n",
    "for i in ax.containers:\n",
    "    ax.bar_label(i, label_type='edge')\n",
    "\n",
    "plt.xlabel('Relation Type')\n",
    "plt.ylabel('Count')\n",
    "plt.title('Histogram of Relation Types')\n",
    "plt.xticks(rotation=0)\n",
    "plt.savefig(path_to_plots + 'benchmark_for_re.png')\n",
    "plt.show()\n"
   ]
  },
  {
   "cell_type": "code",
   "execution_count": 7,
   "metadata": {},
   "outputs": [
    {
     "data": {
      "image/png": "[encoded data removed]",
      "text/plain": [
       "<Figure size 1200x600 with 2 Axes>"
      ]
     },
     "metadata": {},
     "output_type": "display_data"
    }
   ],
   "source": [
    "fig, (ax1, ax2) = plt.subplots(1, 2, figsize=(12, 6))\n",
    "\n",
    "train_value_counts = train_df['label'].value_counts()\n",
    "ax1.bar(train_value_counts.index, train_value_counts.values)\n",
    "\n",
    "for i in ax1.patches:\n",
    "    ax1.text(i.get_x() + i.get_width() / 2, i.get_height(), str(i.get_height()), ha='center', va='bottom')\n",
    "\n",
    "ax1.set_xlabel('Relation Type')\n",
    "ax1.set_ylabel('Count')\n",
    "ax1.set_title('Relation Types, train')\n",
    "ax1.tick_params(axis='x', rotation=0) \n",
    "\n",
    "\n",
    "test_value_counts = test_df['label'].value_counts()\n",
    "ax2.bar(test_value_counts.index, test_value_counts.values)\n",
    "\n",
    "for i in ax2.patches:\n",
    "    ax2.text(i.get_x() + i.get_width() / 2, i.get_height(), str(i.get_height()), ha='center', va='bottom')\n",
    "\n",
    "ax2.set_xlabel('Relation Type')\n",
    "ax2.set_ylabel('Count')\n",
    "ax2.set_title('Relation Types, test')\n",
    "ax2.tick_params(axis='x', rotation=0)\n",
    "\n",
    "plt.tight_layout()\n",
    "plt.savefig(path_to_plots + 'relation_test_train.png')\n",
    "\n",
    "plt.show()\n"
   ]
  },
  {
   "cell_type": "markdown",
   "metadata": {},
   "source": [
    "# RE, LUKE"
   ]
  },
  {
   "cell_type": "code",
   "execution_count": 8,
   "metadata": {},
   "outputs": [
    {
     "name": "stderr",
     "output_type": "stream",
     "text": [
      "Some weights of LukeForEntityPairClassification were not initialized from the model checkpoint at studio-ousia/luke-base and are newly initialized: ['classifier.weight']\n",
      "You should probably TRAIN this model on a down-stream task to be able to use it for predictions and inference.\n",
      "Special tokens have been added in the vocabulary, make sure the associated word embeddings are fine-tuned or trained.\n"
     ]
    }
   ],
   "source": [
    "# models' names\n",
    "model_name_luke_base = \"studio-ousia/luke-base\"\n",
    "model_name_nk_finetuned = \"nk_LUKE_re\"\n",
    "\n",
    "task_pair_class = \"entity_pair_classification\"\n",
    "\n",
    "# models\n",
    "model_luke_base = LukeForEntityPairClassification.from_pretrained(model_name_luke_base, num_labels=len(label2id), id2label=id2label, label2id=label2id)\n",
    "\n",
    "# tokenizer\n",
    "tokenizer_luke_base = LukeTokenizer.from_pretrained(model_name_luke_base, task=task_pair_class)\n",
    "\n",
    "# parameters for fine-tuning\n",
    "train_batch = 4\n",
    "test_batch = 2\n",
    "epochs = 4\n",
    "lr=5e-5"
   ]
  },
  {
   "cell_type": "code",
   "execution_count": 9,
   "metadata": {},
   "outputs": [
    {
     "data": {
      "text/plain": [
       "device(type='cpu')"
      ]
     },
     "execution_count": 9,
     "metadata": {},
     "output_type": "execute_result"
    }
   ],
   "source": [
    "device = torch.device(\"cuda\") if torch.cuda.is_available() else torch.device(\"cpu\")\n",
    "model_luke_base.to(device)\n",
    "device"
   ]
  },
  {
   "cell_type": "markdown",
   "metadata": {},
   "source": [
    "## 2. RE, LUKE: DataSet, tokenizer "
   ]
  },
  {
   "cell_type": "code",
   "execution_count": 10,
   "metadata": {},
   "outputs": [],
   "source": [
    "class RelationExtractionDataset(Dataset):\n",
    "    \"\"\"Relation extraction dataset.\"\"\"\n",
    "\n",
    "    def __init__(self, data, tokenizer):\n",
    "        \"\"\"\n",
    "        Args:\n",
    "            data : Pandas dataframe.\n",
    "            tokenizer : tokenizer to encode data.\n",
    "        \"\"\"\n",
    "        self.data = data\n",
    "        self.tokenizer = tokenizer\n",
    "\n",
    "    def __len__(self):\n",
    "        return len(self.data)\n",
    "\n",
    "    def __getitem__(self, idx):\n",
    "        item = self.data.iloc[idx]\n",
    "\n",
    "        text = item.text\n",
    "        entity_spans = [tuple(x) for x in item.entity_spans_pairs]\n",
    "\n",
    "        encoding = self.tokenizer(text, entity_spans=entity_spans, truncation=True, return_tensors=\"pt\")\n",
    "\n",
    "        for k,v in encoding.items():\n",
    "          encoding[k] = encoding[k].squeeze()\n",
    "\n",
    "        encoding[\"label\"] = torch.tensor(label2id[item.label])\n",
    "\n",
    "        return encoding\n",
    "    \n",
    "    def return_item(self, idx):\n",
    "\n",
    "        item = self.data.iloc[idx]\n",
    "\n",
    "        text = item.text\n",
    "        entity_spans = [tuple(x) for x in item.entity_spans_pairs]\n",
    "        entity_pair = item.entity_pairs\n",
    "        label = item.label\n",
    "\n",
    "        return text, entity_spans, entity_pair, label\n",
    "    \n",
    "def return_datasets_luke(test_df, train_df, tokenizer):\n",
    "    test_dataset = RelationExtractionDataset(test_df, tokenizer)\n",
    "    train_dataset = RelationExtractionDataset(train_df, tokenizer)\n",
    "\n",
    "    return test_dataset, train_dataset\n",
    "\n",
    "\n",
    "def return_dataloader_luke(test_df, train_df, tokenizer):\n",
    "    # use DataCollator to implement padding for the batch ranther than the full dataset\n",
    "    data_collator = DataCollatorWithPadding(tokenizer)\n",
    "\n",
    "    test_dataset, train_dataset = return_datasets_luke(test_df, train_df, tokenizer)\n",
    "\n",
    "    # suffle = Ture, suffle at the end of each epoch\n",
    "    test_dataloader = DataLoader(test_dataset, batch_size=test_batch, collate_fn=data_collator)\n",
    "    train_dataloader = DataLoader(train_dataset, batch_size=train_batch, shuffle=True, collate_fn=data_collator)\n",
    "\n",
    "    return test_dataloader, train_dataloader"
   ]
  },
  {
   "cell_type": "code",
   "execution_count": 11,
   "metadata": {},
   "outputs": [],
   "source": [
    "test_finetune_dataset, train_finetune_dataset = return_datasets_luke(test_df, train_df, tokenizer_luke_base)\n",
    "test_finetune_dataloader, train_finetune_dataloader = return_dataloader_luke(test_df, train_df, tokenizer_luke_base)"
   ]
  },
  {
   "cell_type": "markdown",
   "metadata": {},
   "source": [
    "## 3. RE, LUKE: test batch"
   ]
  },
  {
   "cell_type": "code",
   "execution_count": 12,
   "metadata": {},
   "outputs": [
    {
     "data": {
      "text/plain": [
       "{'input_ids': torch.Size([2, 32]),\n",
       " 'entity_ids': torch.Size([2, 2]),\n",
       " 'entity_position_ids': torch.Size([2, 2, 30]),\n",
       " 'attention_mask': torch.Size([2, 32]),\n",
       " 'entity_attention_mask': torch.Size([2, 2]),\n",
       " 'labels': torch.Size([2])}"
      ]
     },
     "execution_count": 12,
     "metadata": {},
     "output_type": "execute_result"
    }
   ],
   "source": [
    "for batch in test_finetune_dataloader:\n",
    "    break\n",
    "{k: v.shape for k, v in batch.items()}"
   ]
  },
  {
   "cell_type": "code",
   "execution_count": 13,
   "metadata": {},
   "outputs": [
    {
     "data": {
      "text/plain": [
       "'<s> <ent> FLX Networks <ent>  Partners with <ent2>  GK3 Capital <ent2>  to Provide Premier Digital Sales and Marketing for Asset Managers and Wealth Management Firms.</s>'"
      ]
     },
     "execution_count": 13,
     "metadata": {},
     "output_type": "execute_result"
    }
   ],
   "source": [
    "tokenizer_luke_base.decode(batch['input_ids'][0])"
   ]
  },
  {
   "cell_type": "code",
   "execution_count": 14,
   "metadata": {},
   "outputs": [
    {
     "data": {
      "text/plain": [
       "tensor(2)"
      ]
     },
     "execution_count": 14,
     "metadata": {},
     "output_type": "execute_result"
    }
   ],
   "source": [
    "batch['labels'][0]"
   ]
  },
  {
   "cell_type": "code",
   "execution_count": 15,
   "metadata": {},
   "outputs": [
    {
     "name": "stdout",
     "output_type": "stream",
     "text": [
      "tensor(1.7487, grad_fn=<NllLossBackward0>) torch.Size([2, 4])\n"
     ]
    }
   ],
   "source": [
    "outputs = model_luke_base(**batch)\n",
    "print(outputs.loss, outputs.logits.shape)"
   ]
  },
  {
   "cell_type": "code",
   "execution_count": 16,
   "metadata": {},
   "outputs": [
    {
     "data": {
      "text/plain": [
       "tensor(1)"
      ]
     },
     "execution_count": 16,
     "metadata": {},
     "output_type": "execute_result"
    }
   ],
   "source": [
    "outputs.logits[0].argmax(-1).squeeze()"
   ]
  },
  {
   "cell_type": "markdown",
   "metadata": {},
   "source": [
    "## 4. RE, LUKE: model fine-tuning"
   ]
  },
  {
   "cell_type": "code",
   "execution_count": 17,
   "metadata": {},
   "outputs": [],
   "source": [
    "# Define the training function\n",
    "def train_model(model, dataloader, epochs=epochs, learning_rate=lr):\n",
    "    model.train()\n",
    "    optimizer = AdamW(model.parameters(), lr=learning_rate)\n",
    "\n",
    "    num_training_steps = epochs * len(dataloader)\n",
    "    lr_scheduler = get_scheduler(\n",
    "        name=\"linear\", optimizer=optimizer, num_warmup_steps=0, num_training_steps=num_training_steps\n",
    "    )\n",
    "\n",
    "    for epoch in range(epochs):\n",
    "        for batch in tqdm(dataloader):\n",
    "            optimizer.zero_grad()\n",
    "            \n",
    "            batch = {k: v.to(device) for k, v in batch.items()}\n",
    "            outputs = model(**batch)\n",
    "\n",
    "            loss = outputs.loss\n",
    "            loss.backward()\n",
    "            optimizer.step()\n",
    "            lr_scheduler.step()\n",
    "\n",
    "        print(f\"Epoch {epoch+1} completed with loss: {loss.item()}\")\n"
   ]
  },
  {
   "cell_type": "code",
   "execution_count": 18,
   "metadata": {},
   "outputs": [
    {
     "name": "stderr",
     "output_type": "stream",
     "text": [
      "/home/devuser1/miniconda3/envs/python3_11/lib/python3.11/site-packages/transformers/optimization.py:588: FutureWarning: This implementation of AdamW is deprecated and will be removed in a future version. Use the PyTorch implementation torch.optim.AdamW instead, or set `no_deprecation_warning=True` to disable this warning\n",
      "  warnings.warn(\n",
      "100%|██████████| 76/76 [02:25<00:00,  1.91s/it]\n"
     ]
    },
    {
     "name": "stdout",
     "output_type": "stream",
     "text": [
      "Epoch 1 completed with loss: 0.16220197081565857\n"
     ]
    },
    {
     "name": "stderr",
     "output_type": "stream",
     "text": [
      "100%|██████████| 76/76 [02:23<00:00,  1.88s/it]\n"
     ]
    },
    {
     "name": "stdout",
     "output_type": "stream",
     "text": [
      "Epoch 2 completed with loss: 0.018222656100988388\n"
     ]
    },
    {
     "name": "stderr",
     "output_type": "stream",
     "text": [
      "100%|██████████| 76/76 [02:18<00:00,  1.83s/it]\n"
     ]
    },
    {
     "name": "stdout",
     "output_type": "stream",
     "text": [
      "Epoch 3 completed with loss: 0.00024732868769206107\n"
     ]
    },
    {
     "name": "stderr",
     "output_type": "stream",
     "text": [
      "100%|██████████| 76/76 [02:19<00:00,  1.83s/it]"
     ]
    },
    {
     "name": "stdout",
     "output_type": "stream",
     "text": [
      "Epoch 4 completed with loss: 0.005942297168076038\n"
     ]
    },
    {
     "name": "stderr",
     "output_type": "stream",
     "text": [
      "\n"
     ]
    }
   ],
   "source": [
    "# Train the model\n",
    "train_model(model_luke_base, train_finetune_dataloader)"
   ]
  },
  {
   "cell_type": "code",
   "execution_count": 20,
   "metadata": {},
   "outputs": [],
   "source": [
    "model_luke_base.save_pretrained(path_to_models + model_name_nk_finetuned)"
   ]
  },
  {
   "cell_type": "markdown",
   "metadata": {},
   "source": [
    "## 5. RE, LUKE: Evaluation"
   ]
  },
  {
   "cell_type": "code",
   "execution_count": 17,
   "metadata": {},
   "outputs": [],
   "source": [
    "def evaluate_luke_model(model, name, dataloader):\n",
    "    model.eval()\n",
    "    labels = []\n",
    "    preds = []\n",
    "\n",
    "    class_labels = [1, 2, 3]\n",
    "\n",
    "    TP = {1:0, 2:0, 3:0}\n",
    "    FP = {1:0, 2:0, 3:0}\n",
    "    FN = {1:0, 2:0, 3:0}\n",
    "\n",
    "    precisions = []\n",
    "    recalls = []\n",
    "    f1_scores = []\n",
    "\n",
    "    with torch.no_grad():\n",
    "        for batch in tqdm(dataloader):\n",
    "\n",
    "            batch_labels = batch[\"labels\"]\n",
    "\n",
    "            batch = {k: v.to(device) for k, v in batch.items()}\n",
    "            outputs = model(**batch)\n",
    "\n",
    "            logits = outputs.logits\n",
    "            batch_preds = torch.argmax(logits, dim=-1)\n",
    "\n",
    "            labels.extend(batch_labels.numpy().tolist())\n",
    "            preds.extend(batch_preds.numpy().tolist())\n",
    "    \n",
    "    for t, p in zip(labels, preds):\n",
    "        if t == p: \n",
    "            if t == 0: # if entity pair has 'no_relation' skip\n",
    "                continue\n",
    "            elif t in class_labels: # entity type is correctly recognized by NER, TP \n",
    "                TP[p] = TP[p] + 1\n",
    "        else:\n",
    "            if t == 0: # 'no_relation' entity is classified, false positive for the predicted class\n",
    "                FP[p] = FP[p] + 1\n",
    "            elif p == 0: # false negative for the true class, as entity was not recognized\n",
    "                FN[t] = FN[t] + 1\n",
    "            else: # wrong entity type, flase negative for true class, false positive for predicted class\n",
    "                FP[p] = FP[p] + 1\n",
    "                FN[t] = FN[t] + 1\n",
    "\n",
    "    try:\n",
    "        for class_ in class_labels:\n",
    "            precision_class = TP[class_] / (TP[class_] + FP[class_])\n",
    "            recall_class = TP[class_] / (TP[class_] + FN[class_])\n",
    "\n",
    "            precisions.append(precision_class)\n",
    "            recalls.append(recall_class)\n",
    "            f1_scores.append(2 * precision_class * recall_class / (precision_class + recall_class))\n",
    "\n",
    "        macro_precision = sum(precisions) / len(class_labels)\n",
    "        macro_recall = sum(recalls) / len(class_labels)\n",
    "        macro_f1 = sum(f1_scores) / len(class_labels)\n",
    "\n",
    "        print(name)\n",
    "        print('%%%%%%%%%%%%%%%%%%%%%%%%%%%%%%%%%%%')\n",
    "        print(f\"Precision macro: {macro_precision}\")\n",
    "        print(f\"Recall macro: {macro_recall}\")\n",
    "        print(f\"F1 Score macro: {macro_f1}\")\n",
    "        print('%%%%%%%%%%%%%%%%%%%%%%%%%%%%%%%%%%%')\n",
    "\n",
    "    except ZeroDivisionError as e:\n",
    "        print(e)\n",
    "        macro_precision, macro_recall, macro_f1 = 0, 0, 0\n",
    "\n",
    "    return [name, macro_precision, macro_recall, macro_f1] + precisions + recalls + f1_scores"
   ]
  },
  {
   "cell_type": "code",
   "execution_count": 18,
   "metadata": {},
   "outputs": [],
   "source": [
    "model_nk_finetuned = LukeForEntityPairClassification.from_pretrained(path_to_models + model_name_nk_finetuned)"
   ]
  },
  {
   "cell_type": "code",
   "execution_count": 19,
   "metadata": {},
   "outputs": [
    {
     "name": "stderr",
     "output_type": "stream",
     "text": [
      "100%|██████████| 62/62 [00:05<00:00, 11.88it/s]"
     ]
    },
    {
     "name": "stdout",
     "output_type": "stream",
     "text": [
      "nk_LUKE_re\n",
      "%%%%%%%%%%%%%%%%%%%%%%%%%%%%%%%%%%%\n",
      "Precision macro: 0.9517753047164813\n",
      "Recall macro: 0.9835835835835836\n",
      "F1 Score macro: 0.9664123393055978\n",
      "%%%%%%%%%%%%%%%%%%%%%%%%%%%%%%%%%%%\n"
     ]
    },
    {
     "name": "stderr",
     "output_type": "stream",
     "text": [
      "\n"
     ]
    }
   ],
   "source": [
    "model_nk_finetuned_results = evaluate_luke_model(model_nk_finetuned, model_name_nk_finetuned, test_finetune_dataloader)"
   ]
  },
  {
   "cell_type": "code",
   "execution_count": 20,
   "metadata": {},
   "outputs": [
    {
     "data": {
      "text/html": [
       "<div>\n",
       "<style scoped>\n",
       "    .dataframe tbody tr th:only-of-type {\n",
       "        vertical-align: middle;\n",
       "    }\n",
       "\n",
       "    .dataframe tbody tr th {\n",
       "        vertical-align: top;\n",
       "    }\n",
       "\n",
       "    .dataframe thead th {\n",
       "        text-align: right;\n",
       "    }\n",
       "</style>\n",
       "<table border=\"1\" class=\"dataframe\">\n",
       "  <thead>\n",
       "    <tr style=\"text-align: right;\">\n",
       "      <th></th>\n",
       "      <th>model_name</th>\n",
       "      <th>macro_precision</th>\n",
       "      <th>macro_recall</th>\n",
       "      <th>macro_f1</th>\n",
       "      <th>p_works_at</th>\n",
       "      <th>p_partners_with</th>\n",
       "      <th>p_acquired_by</th>\n",
       "      <th>r_works_at</th>\n",
       "      <th>r_partners_with</th>\n",
       "      <th>r_acquired_by</th>\n",
       "      <th>f1_works_at</th>\n",
       "      <th>f1_partners_with</th>\n",
       "      <th>f1_acquired_by</th>\n",
       "    </tr>\n",
       "  </thead>\n",
       "  <tbody>\n",
       "    <tr>\n",
       "      <th>0</th>\n",
       "      <td>nk_LUKE_re</td>\n",
       "      <td>0.951775</td>\n",
       "      <td>0.983584</td>\n",
       "      <td>0.966412</td>\n",
       "      <td>1.0</td>\n",
       "      <td>0.972973</td>\n",
       "      <td>0.882353</td>\n",
       "      <td>0.977778</td>\n",
       "      <td>0.972973</td>\n",
       "      <td>1.0</td>\n",
       "      <td>0.988764</td>\n",
       "      <td>0.972973</td>\n",
       "      <td>0.9375</td>\n",
       "    </tr>\n",
       "  </tbody>\n",
       "</table>\n",
       "</div>"
      ],
      "text/plain": [
       "   model_name  macro_precision  macro_recall  macro_f1  p_works_at  \\\n",
       "0  nk_LUKE_re         0.951775      0.983584  0.966412         1.0   \n",
       "\n",
       "   p_partners_with  p_acquired_by  r_works_at  r_partners_with  r_acquired_by  \\\n",
       "0         0.972973       0.882353    0.977778         0.972973            1.0   \n",
       "\n",
       "   f1_works_at  f1_partners_with  f1_acquired_by  \n",
       "0     0.988764          0.972973          0.9375  "
      ]
     },
     "execution_count": 20,
     "metadata": {},
     "output_type": "execute_result"
    }
   ],
   "source": [
    "results.loc[len(results)] = model_nk_finetuned_results\n",
    "results"
   ]
  },
  {
   "cell_type": "markdown",
   "metadata": {},
   "source": [
    "## 6. RE, LUKE: Inference"
   ]
  },
  {
   "cell_type": "code",
   "execution_count": 21,
   "metadata": {},
   "outputs": [],
   "source": [
    "def inference(model, tokenizer, number_of_items, dataset, seed=42):\n",
    "\n",
    "    np.random.seed(seed)\n",
    "\n",
    "    l = len(dataset.data)\n",
    "    indx = random.sample(range(l), number_of_items)\n",
    "\n",
    "    for i in indx:\n",
    "            text, entity_spans, entity_pair, label = dataset.return_item(i)\n",
    "\n",
    "            inputs = tokenizer(text, entity_spans=entity_spans, return_tensors=\"pt\")\n",
    "\n",
    "            outputs = model(**inputs)\n",
    "            logits = outputs.logits\n",
    "            predicted_class_idx = logits.argmax(-1).item()\n",
    "            print(\"Sentence:\", text)\n",
    "            print(\"Ground truth: \", str(entity_pair) , ' ', label)\n",
    "            print(\"Predicted label: \", model.config.id2label[predicted_class_idx])\n",
    "            print('%%%%%%%%%%%%%%%%%%%%%%%%%%%%%%%%%%%')"
   ]
  },
  {
   "cell_type": "code",
   "execution_count": 22,
   "metadata": {},
   "outputs": [],
   "source": [
    "model_nk_finetuned = LukeForEntityPairClassification.from_pretrained(path_to_models + model_name_nk_finetuned)"
   ]
  },
  {
   "cell_type": "code",
   "execution_count": 23,
   "metadata": {},
   "outputs": [
    {
     "name": "stdout",
     "output_type": "stream",
     "text": [
      "Sentence: Embraer Partners with Horizon Air for Cutting-Edge Inventory Management Program.\n",
      "Ground truth:  ('Embraer', 'Horizon Air')   partners_with\n",
      "Predicted label:  partners_with\n",
      "%%%%%%%%%%%%%%%%%%%%%%%%%%%%%%%%%%%\n",
      "Sentence: Embraer and Horizon Air have entered into an agreement for the Embraer Collaborative Inventory Planning (ECIP), a bespoke program The post Embraer Partners with Horizon Air for Cutting-Edge Inventory Management Program appeared first on Travel And Tour World.\n",
      "Ground truth:  ('Embraer Partners', 'Horizon Air')   partners_with\n",
      "Predicted label:  partners_with\n",
      "%%%%%%%%%%%%%%%%%%%%%%%%%%%%%%%%%%%\n",
      "Sentence: Scottish Rail Holdings today announced that Joanne Maguire has been appointed interim Managing Director of ScotRail following Alex Hynes' two-year secondment to the UK Government Department for Transport.\n",
      "Ground truth:  ('Joanne Maguire', 'ScotRail')   works_at\n",
      "Predicted label:  works_at\n",
      "%%%%%%%%%%%%%%%%%%%%%%%%%%%%%%%%%%%\n",
      "Sentence: Groundworks® Increases Ohio Footprint with the Acquisition of The Basement Guys.\n",
      "Ground truth:  ('The Basement Guys', 'Groundworks')   acquired_by\n",
      "Predicted label:  acquired_by\n",
      "%%%%%%%%%%%%%%%%%%%%%%%%%%%%%%%%%%%\n",
      "Sentence: Siris Capital Group backed BearCom acquired The Surveillance Shop from founder & CEO Curtis Dyck.\n",
      "Ground truth:  ('Curtis Dyck', 'The Surveillance Shop')   works_at\n",
      "Predicted label:  works_at\n",
      "%%%%%%%%%%%%%%%%%%%%%%%%%%%%%%%%%%%\n"
     ]
    }
   ],
   "source": [
    "inference(model_nk_finetuned, tokenizer_luke_base, 5, test_finetune_dataset)"
   ]
  },
  {
   "cell_type": "markdown",
   "metadata": {},
   "source": [
    "# REBEL"
   ]
  },
  {
   "cell_type": "code",
   "execution_count": 24,
   "metadata": {},
   "outputs": [],
   "source": [
    "model_name_rebel = \"Babelscape/rebel-large\"\n",
    "model_name_rebel_finetuned = \"nk_REBEL_re\"\n",
    "\n",
    "tokenizer_rebel = AutoTokenizer.from_pretrained(model_name_rebel)\n",
    "model_rebel = AutoModelForSeq2SeqLM.from_pretrained(model_name_rebel)\n",
    "\n",
    "gen_kwargs = {\n",
    "    \"max_length\": 256,\n",
    "    \"length_penalty\": 0,\n",
    "    \"num_beams\": 3,\n",
    "    \"num_return_sequences\": 1,\n",
    "}\n",
    "\n",
    "# parameters for fine-tuning\n",
    "train_batch = 4\n",
    "test_batch = 2\n",
    "epochs = 4\n",
    "lr=3e-5"
   ]
  },
  {
   "cell_type": "code",
   "execution_count": 25,
   "metadata": {},
   "outputs": [
    {
     "data": {
      "text/plain": [
       "device(type='cpu')"
      ]
     },
     "execution_count": 25,
     "metadata": {},
     "output_type": "execute_result"
    }
   ],
   "source": [
    "device = torch.device(\"cuda\") if torch.cuda.is_available() else torch.device(\"cpu\")\n",
    "model_rebel.to(device)\n",
    "device"
   ]
  },
  {
   "cell_type": "markdown",
   "metadata": {},
   "source": [
    "## RE, REBEL: Data preparation"
   ]
  },
  {
   "cell_type": "code",
   "execution_count": 26,
   "metadata": {},
   "outputs": [],
   "source": [
    "def transform_row(row, idx):\n",
    "    context = row['text']\n",
    "    subj, obj = row['entity_pairs']\n",
    "    label = row['label']\n",
    "    \n",
    "    triplet = f\"<triplet> {subj} <subj> {obj} <obj> {label}\"\n",
    "    \n",
    "    return {\n",
    "        'text': context,\n",
    "        'triplets': triplet\n",
    "    }\n",
    "\n",
    "def transform_df_rebel(df):\n",
    "\n",
    "    df_no_nil = df[df['label'] != 'NIL']\n",
    "    transformed_data = [transform_row(row, idx) for idx, row in df_no_nil.iterrows()]\n",
    "    transformed_df = pd.DataFrame(transformed_data)\n",
    "    grouped_df = transformed_df.groupby('text', as_index=False).agg({'triplets': ' '.join})\n",
    "\n",
    "    return grouped_df"
   ]
  },
  {
   "cell_type": "code",
   "execution_count": 27,
   "metadata": {},
   "outputs": [],
   "source": [
    "class RelationExtractionDatasetREBEL(Dataset):\n",
    "    \"\"\"Relation extraction dataset.\"\"\"\n",
    "\n",
    "    def __init__(self, data, tokenizer):\n",
    "        \"\"\"\n",
    "        Args:\n",
    "            data : Pandas dataframe.\n",
    "            tokenizer : tokenizer to encode data.\n",
    "        \"\"\"\n",
    "        self.data = data\n",
    "        self.tokenizer = tokenizer\n",
    "\n",
    "    def __len__(self):\n",
    "        return len(self.data)\n",
    "\n",
    "    def __getitem__(self, idx):\n",
    "        item = self.data.iloc[idx]\n",
    "\n",
    "        text = item.text\n",
    "        triplets = item.triplets\n",
    "\n",
    "        encoding = self.tokenizer(text, truncation=True, return_tensors=\"pt\")\n",
    "        with self.tokenizer.as_target_tokenizer():\n",
    "            targets = self.tokenizer(triplets, truncation=True, return_tensors=\"pt\")\n",
    "\n",
    "        for k,v in encoding.items():\n",
    "          encoding[k] = encoding[k].squeeze()\n",
    "\n",
    "        encoding[\"labels\"] = targets['input_ids'].squeeze()\n",
    "\n",
    "        return encoding\n",
    "\n",
    "\n",
    "def return_dataloader_rebel(train_df, tokenizer):\n",
    "    # use DataCollator to implement padding for the batch ranther than the full dataset\n",
    "\n",
    "    data_collator = DataCollatorForSeq2Seq(tokenizer)\n",
    "    train_dataset = RelationExtractionDatasetREBEL(train_df, tokenizer)\n",
    "\n",
    "    # suffle = Ture, suffle at the end of each epoch\n",
    "    train_dataloader = DataLoader(train_dataset, batch_size=train_batch, shuffle=True, collate_fn=data_collator)\n",
    "\n",
    "    return train_dataloader"
   ]
  },
  {
   "cell_type": "code",
   "execution_count": 28,
   "metadata": {},
   "outputs": [],
   "source": [
    "test_df_rebel = transform_df_rebel(test_df)\n",
    "train_df_rebel = transform_df_rebel(train_df)\n",
    "\n",
    "train_rebel_dataloader = return_dataloader_rebel(train_df_rebel, tokenizer_rebel)"
   ]
  },
  {
   "cell_type": "markdown",
   "metadata": {},
   "source": [
    "## RE, REBEL: test batch"
   ]
  },
  {
   "cell_type": "code",
   "execution_count": 30,
   "metadata": {},
   "outputs": [
    {
     "name": "stderr",
     "output_type": "stream",
     "text": [
      "/home/devuser1/miniconda3/envs/python3_11/lib/python3.11/site-packages/transformers/tokenization_utils_base.py:3946: UserWarning: `as_target_tokenizer` is deprecated and will be removed in v5 of Transformers. You can tokenize your labels by using the argument `text_target` of the regular `__call__` method (either in the same call as your input texts if you use the same keyword arguments, or in a separate call.\n",
      "  warnings.warn(\n",
      "/home/devuser1/miniconda3/envs/python3_11/lib/python3.11/site-packages/transformers/data/data_collator.py:646: UserWarning: Creating a tensor from a list of numpy.ndarrays is extremely slow. Please consider converting the list to a single numpy.ndarray with numpy.array() before converting to a tensor. (Triggered internally at ../torch/csrc/utils/tensor_new.cpp:274.)\n",
      "  batch[\"labels\"] = torch.tensor(batch[\"labels\"], dtype=torch.int64)\n"
     ]
    },
    {
     "data": {
      "text/plain": [
       "{'input_ids': torch.Size([4, 115]),\n",
       " 'attention_mask': torch.Size([4, 115]),\n",
       " 'labels': torch.Size([4, 37])}"
      ]
     },
     "execution_count": 30,
     "metadata": {},
     "output_type": "execute_result"
    }
   ],
   "source": [
    "for batch in train_rebel_dataloader:\n",
    "    break\n",
    "{k: v.shape for k, v in batch.items()}"
   ]
  },
  {
   "cell_type": "code",
   "execution_count": 31,
   "metadata": {},
   "outputs": [
    {
     "data": {
      "text/plain": [
       "tensor([    0, 50267, 11561,     4,   175,  1437, 50266,   248, 10089,     6,\n",
       "          603,     4,  1437, 50265,  3566,  1215,  1409,  1437, 50267,  5866,\n",
       "        32987,     4,   175,  1437, 50266,   248, 10089,     6,   603,     4,\n",
       "         1437, 50265,  3566,  1215,  1409,     2,  -100])"
      ]
     },
     "execution_count": 31,
     "metadata": {},
     "output_type": "execute_result"
    }
   ],
   "source": [
    "batch['labels'][0]"
   ]
  },
  {
   "cell_type": "code",
   "execution_count": 32,
   "metadata": {},
   "outputs": [
    {
     "data": {
      "text/plain": [
       "tensor([    0, 49324, 28912,     9,  5866, 32987,     4,   175,    11,  1209,\n",
       "          306, 22775,  4179,  7150,     6, 11935,     6,   587,   158,     6,\n",
       "        15294,    36, 10020,  7912,   717,  5178, 11871, 21126,    43,   480,\n",
       "          248, 10089,     6,   603,     4,    36,  3293,   347, 30119,    35,\n",
       "          248,  4014,   487,    43,  6697,   500, 10089,   113,    50,    22,\n",
       "        21960, 16844,     5,  1945,     8,  5364,     9,   981,  1778,  4818,\n",
       "            6, 11561,     4,   175,     8,  5866, 32987,     4,   175,     6,\n",
       "           19,    10,  1056,    15,  9643,     8, 12840,    11,  2304,     6,\n",
       "         7824,   359,  4000,  3734,     6,   452,   431,    63,   613,   775,\n",
       "           13,     5,    76,  1249,   719,  1105,     6,   291,  1922,   863,\n",
       "        13126,    90,  3069,   748,  3937,   620,  1561,  1187,  8554,  3292,\n",
       "         4348,   462,  7427,   225,     2])"
      ]
     },
     "execution_count": 32,
     "metadata": {},
     "output_type": "execute_result"
    }
   ],
   "source": [
    "batch['input_ids'][0]"
   ]
  },
  {
   "cell_type": "code",
   "execution_count": 33,
   "metadata": {},
   "outputs": [
    {
     "data": {
      "text/plain": [
       "tensor([    0, 50267, 11561,     4,   175,  1437, 50266,   248, 10089,     6,\n",
       "          603,     4,  1437, 50265,  3566,  1215,  1409,  1437, 50267,  5866,\n",
       "        32987,     4,   175,  1437, 50266,   248, 10089,     6,   603,     4,\n",
       "         1437, 50265,  3566,  1215,  1409,     2,  -100])"
      ]
     },
     "execution_count": 33,
     "metadata": {},
     "output_type": "execute_result"
    }
   ],
   "source": [
    "batch['labels'][0]"
   ]
  },
  {
   "cell_type": "code",
   "execution_count": 34,
   "metadata": {},
   "outputs": [
    {
     "name": "stdout",
     "output_type": "stream",
     "text": [
      "tensor(4.1607, grad_fn=<NllLossBackward0>) torch.Size([4, 37, 50272])\n"
     ]
    }
   ],
   "source": [
    "outputs = model_rebel(**batch)\n",
    "print(outputs.loss, outputs.logits.shape)"
   ]
  },
  {
   "cell_type": "code",
   "execution_count": 35,
   "metadata": {},
   "outputs": [
    {
     "data": {
      "text/plain": [
       "tensor([50267, 50267,   248,     4,   175,  1437, 50266,   248, 10089,     6,\n",
       "          603,     4,  1437, 50265,  2164,    30,  1409,  1437, 50267,  5866,\n",
       "        32987,  1437,   175,  1437, 50266,   248, 10089,     6,   603,     4,\n",
       "         1437, 50265,  2164,    30,  1409,     2,  1437])"
      ]
     },
     "execution_count": 35,
     "metadata": {},
     "output_type": "execute_result"
    }
   ],
   "source": [
    "outputs.logits[0].argmax(-1).squeeze()"
   ]
  },
  {
   "cell_type": "markdown",
   "metadata": {},
   "source": [
    "## RE, REBEL: model fine-tuning"
   ]
  },
  {
   "cell_type": "code",
   "execution_count": 40,
   "metadata": {},
   "outputs": [],
   "source": [
    "# Define the training function\n",
    "def train_model(model, dataloader, epochs=epochs, learning_rate=lr):\n",
    "    model.train()\n",
    "    optimizer = AdamW(model.parameters(), lr=learning_rate)\n",
    "\n",
    "    num_training_steps = epochs * len(dataloader)\n",
    "    lr_scheduler = get_scheduler(\n",
    "        name=\"linear\", optimizer=optimizer, num_warmup_steps=0, num_training_steps=num_training_steps\n",
    "    )\n",
    "\n",
    "    for epoch in range(epochs):\n",
    "        for batch in tqdm(dataloader):\n",
    "            optimizer.zero_grad()\n",
    "            \n",
    "            batch = {k: v.to(device) for k, v in batch.items()}\n",
    "            outputs = model(**batch)\n",
    "\n",
    "            loss = outputs.loss\n",
    "            loss.backward()\n",
    "            optimizer.step()\n",
    "            lr_scheduler.step()\n",
    "\n",
    "        print(f\"Epoch {epoch+1} completed with loss: {loss.item()}\")"
   ]
  },
  {
   "cell_type": "code",
   "execution_count": 41,
   "metadata": {},
   "outputs": [
    {
     "name": "stderr",
     "output_type": "stream",
     "text": [
      "/home/devuser1/miniconda3/envs/python3_11/lib/python3.11/site-packages/transformers/optimization.py:588: FutureWarning: This implementation of AdamW is deprecated and will be removed in a future version. Use the PyTorch implementation torch.optim.AdamW instead, or set `no_deprecation_warning=True` to disable this warning\n",
      "  warnings.warn(\n",
      "100%|██████████| 45/45 [02:34<00:00,  3.44s/it]\n"
     ]
    },
    {
     "name": "stdout",
     "output_type": "stream",
     "text": [
      "Epoch 1 completed with loss: 0.3796830475330353\n"
     ]
    },
    {
     "name": "stderr",
     "output_type": "stream",
     "text": [
      "100%|██████████| 45/45 [02:31<00:00,  3.36s/it]\n"
     ]
    },
    {
     "name": "stdout",
     "output_type": "stream",
     "text": [
      "Epoch 2 completed with loss: 0.19713065028190613\n"
     ]
    },
    {
     "name": "stderr",
     "output_type": "stream",
     "text": [
      "100%|██████████| 45/45 [02:36<00:00,  3.49s/it]\n"
     ]
    },
    {
     "name": "stdout",
     "output_type": "stream",
     "text": [
      "Epoch 3 completed with loss: 0.37423497438430786\n"
     ]
    },
    {
     "name": "stderr",
     "output_type": "stream",
     "text": [
      "100%|██████████| 45/45 [02:29<00:00,  3.32s/it]"
     ]
    },
    {
     "name": "stdout",
     "output_type": "stream",
     "text": [
      "Epoch 4 completed with loss: 0.07004208862781525\n"
     ]
    },
    {
     "name": "stderr",
     "output_type": "stream",
     "text": [
      "\n"
     ]
    }
   ],
   "source": [
    "# Train the model\n",
    "train_model(model_rebel, train_rebel_dataloader)"
   ]
  },
  {
   "cell_type": "code",
   "execution_count": 43,
   "metadata": {},
   "outputs": [
    {
     "name": "stderr",
     "output_type": "stream",
     "text": [
      "Some non-default generation parameters are set in the model config. These should go into a GenerationConfig file (https://huggingface.co/docs/transformers/generation_strategies#save-a-custom-decoding-strategy-with-your-model) instead. This warning will be raised to an exception in v4.41.\n",
      "Non-default generation parameters: {'max_length': 200, 'num_beams': 4, 'forced_eos_token_id': 2}\n"
     ]
    }
   ],
   "source": [
    "model_rebel.save_pretrained(path_to_models + model_name_rebel_finetuned)"
   ]
  },
  {
   "cell_type": "markdown",
   "metadata": {},
   "source": [
    "## RE, REBEL: Evaluation"
   ]
  },
  {
   "cell_type": "code",
   "execution_count": 36,
   "metadata": {},
   "outputs": [],
   "source": [
    "def extract_triplets(text):\n",
    "\n",
    "    triplets = []\n",
    "    relation, subject, relation, object_ = '', '', '', ''\n",
    "    text = text.strip()\n",
    "    current = 'x'\n",
    "    for token in text.replace(\"<s>\", \"\").replace(\"<pad>\", \"\").replace(\"</s>\", \"\").split():\n",
    "        if token == \"<triplet>\":\n",
    "            current = 't'\n",
    "            if relation != '':\n",
    "                triplets.append({'head': subject.strip(), 'type': relation.strip(),'tail': object_.strip()})\n",
    "                relation = ''\n",
    "            subject = ''\n",
    "        elif token == \"<subj>\":\n",
    "            current = 's'\n",
    "            if relation != '':\n",
    "                triplets.append({'head': subject.strip(), 'type': relation.strip(),'tail': object_.strip()})\n",
    "            object_ = ''\n",
    "        elif token == \"<obj>\":\n",
    "            current = 'o'\n",
    "            relation = ''\n",
    "        else:\n",
    "            if current == 't':\n",
    "                subject += ' ' + token\n",
    "            elif current == 's':\n",
    "                object_ += ' ' + token\n",
    "            elif current == 'o':\n",
    "                relation += ' ' + token\n",
    "    if subject != '' and relation != '' and object_ != '':\n",
    "        triplets.append({'head': subject.strip(), 'type': relation.strip(),'tail': object_.strip()})\n",
    "    \n",
    "    return triplets\n",
    "\n",
    "\n",
    "def evaluate_rebel_model(model, tokenizer, name, test_df):\n",
    "\n",
    "    class_labels = ['works_at', 'partners_with', 'acquired_by']\n",
    "\n",
    "    TP = {'works_at': 0, 'partners_with': 0, 'acquired_by': 0}\n",
    "    FP = {'works_at': 0, 'partners_with': 0, 'acquired_by': 0}\n",
    "    FN = {'works_at': 0, 'partners_with': 0, 'acquired_by': 0}\n",
    "\n",
    "    precisions = []\n",
    "    recalls = []\n",
    "    f1_scores = []\n",
    "\n",
    "    for item in tqdm(test_df.itertuples()):\n",
    "        text = item.text\n",
    "        true = item.triplets\n",
    "        true_triplets = extract_triplets(true)\n",
    "\n",
    "        model_inputs = tokenizer(text, padding=True, truncation=True, return_tensors='pt')\n",
    "\n",
    "        generated_tokens = model.generate(\n",
    "            model_inputs[\"input_ids\"].to(model.device),\n",
    "            attention_mask=model_inputs[\"attention_mask\"].to(model.device),\n",
    "            **gen_kwargs\n",
    "        )\n",
    "\n",
    "        decoded_pred = tokenizer.batch_decode(generated_tokens, skip_special_tokens=False)\n",
    "        pred_triplets = extract_triplets(decoded_pred[0])\n",
    "        \n",
    "        # model failed to detedct any relations\n",
    "        if len(pred_triplets) < 1:  \n",
    "            for true_triplet in true_triplets:\n",
    "                FN[true_triplet['type']] = FN[true_triplet['type']] + 1\n",
    "\n",
    "            continue\n",
    "\n",
    "        for true_triplet in true_triplets:\n",
    "            match_found = False\n",
    "            for pred_triplet in pred_triplets:\n",
    "                if true_triplet['head'] == pred_triplet['head'] and true_triplet['tail'] == pred_triplet['tail']:\n",
    "                    match_found = True\n",
    "                    if true_triplet['type'] == pred_triplet['type']: \n",
    "                        TP[pred_triplet['type']] = TP[pred_triplet['type']] + 1\n",
    "                    else:\n",
    "                        FP[pred_triplet['type']] = FP[pred_triplet['type']] + 1\n",
    "                        FN[true_triplet['type']] = FN[true_triplet['type']] + 1\n",
    "                    break\n",
    "            if not match_found:\n",
    "                FN[true_triplet['type']] = FN[true_triplet['type']] + 1\n",
    "\n",
    "        for pred_triplet in pred_triplets:\n",
    "            match_found = False\n",
    "            for true_triplet in true_triplets:\n",
    "                if pred_triplet['head'] == true_triplet['head'] and pred_triplet['tail'] == true_triplet['tail']:\n",
    "                    match_found = True\n",
    "                    break\n",
    "            if not match_found and pred_triplet['type'] in class_labels:\n",
    "                FP[pred_triplet['type']] = FP[pred_triplet['type']] + 1\n",
    "\n",
    "    try:\n",
    "        for class_ in class_labels:\n",
    "            precision_class = TP[class_] / (TP[class_] + FP[class_])\n",
    "            recall_class = TP[class_] / (TP[class_] + FN[class_])\n",
    "\n",
    "            precisions.append(precision_class)\n",
    "            recalls.append(recall_class)\n",
    "            f1_scores.append(2 * precision_class * recall_class / (precision_class + recall_class))\n",
    "\n",
    "        macro_precision = sum(precisions) / len(class_labels)\n",
    "        macro_recall = sum(recalls) / len(class_labels)\n",
    "        macro_f1 = sum(f1_scores) / len(class_labels)\n",
    "\n",
    "        print(name)\n",
    "        print('%%%%%%%%%%%%%%%%%%%%%%%%%%%%%%%%%%%')\n",
    "        print(f\"Precision macro: {macro_precision}\")\n",
    "        print(f\"Recall macro: {macro_recall}\")\n",
    "        print(f\"F1 Score macro: {macro_f1}\")\n",
    "        print('%%%%%%%%%%%%%%%%%%%%%%%%%%%%%%%%%%%')\n",
    "\n",
    "    except ZeroDivisionError as e:\n",
    "        print(e)\n",
    "        macro_precision, macro_recall, macro_f1 = 0, 0, 0\n",
    "\n",
    "    return [name, macro_precision, macro_recall, macro_f1]  + precisions + recalls + f1_scores"
   ]
  },
  {
   "cell_type": "code",
   "execution_count": 37,
   "metadata": {},
   "outputs": [],
   "source": [
    "model_rebel_finetuned = AutoModelForSeq2SeqLM.from_pretrained(path_to_models + model_name_rebel_finetuned)"
   ]
  },
  {
   "cell_type": "code",
   "execution_count": 38,
   "metadata": {},
   "outputs": [
    {
     "name": "stderr",
     "output_type": "stream",
     "text": [
      "93it [04:08,  2.67s/it]"
     ]
    },
    {
     "name": "stdout",
     "output_type": "stream",
     "text": [
      "nk_REBEL_re\n",
      "%%%%%%%%%%%%%%%%%%%%%%%%%%%%%%%%%%%\n",
      "Precision macro: 0.8276859130749074\n",
      "Recall macro: 0.6950950950950952\n",
      "F1 Score macro: 0.7520087250666734\n",
      "%%%%%%%%%%%%%%%%%%%%%%%%%%%%%%%%%%%\n"
     ]
    },
    {
     "name": "stderr",
     "output_type": "stream",
     "text": [
      "\n"
     ]
    }
   ],
   "source": [
    "result_rebel_finetuned = evaluate_rebel_model(model_rebel_finetuned, tokenizer_rebel, model_name_rebel_finetuned, test_df_rebel)"
   ]
  },
  {
   "cell_type": "code",
   "execution_count": 39,
   "metadata": {},
   "outputs": [
    {
     "data": {
      "text/html": [
       "<div>\n",
       "<style scoped>\n",
       "    .dataframe tbody tr th:only-of-type {\n",
       "        vertical-align: middle;\n",
       "    }\n",
       "\n",
       "    .dataframe tbody tr th {\n",
       "        vertical-align: top;\n",
       "    }\n",
       "\n",
       "    .dataframe thead th {\n",
       "        text-align: right;\n",
       "    }\n",
       "</style>\n",
       "<table border=\"1\" class=\"dataframe\">\n",
       "  <thead>\n",
       "    <tr style=\"text-align: right;\">\n",
       "      <th></th>\n",
       "      <th>model_name</th>\n",
       "      <th>macro_precision</th>\n",
       "      <th>macro_recall</th>\n",
       "      <th>macro_f1</th>\n",
       "      <th>p_works_at</th>\n",
       "      <th>p_partners_with</th>\n",
       "      <th>p_acquired_by</th>\n",
       "      <th>r_works_at</th>\n",
       "      <th>r_partners_with</th>\n",
       "      <th>r_acquired_by</th>\n",
       "      <th>f1_works_at</th>\n",
       "      <th>f1_partners_with</th>\n",
       "      <th>f1_acquired_by</th>\n",
       "    </tr>\n",
       "  </thead>\n",
       "  <tbody>\n",
       "    <tr>\n",
       "      <th>0</th>\n",
       "      <td>nk_LUKE_re</td>\n",
       "      <td>0.951775</td>\n",
       "      <td>0.983584</td>\n",
       "      <td>0.966412</td>\n",
       "      <td>1.000000</td>\n",
       "      <td>0.972973</td>\n",
       "      <td>0.882353</td>\n",
       "      <td>0.977778</td>\n",
       "      <td>0.972973</td>\n",
       "      <td>1.000000</td>\n",
       "      <td>0.988764</td>\n",
       "      <td>0.972973</td>\n",
       "      <td>0.937500</td>\n",
       "    </tr>\n",
       "    <tr>\n",
       "      <th>1</th>\n",
       "      <td>nk_REBEL_re</td>\n",
       "      <td>0.827686</td>\n",
       "      <td>0.695095</td>\n",
       "      <td>0.752009</td>\n",
       "      <td>0.903226</td>\n",
       "      <td>0.794118</td>\n",
       "      <td>0.785714</td>\n",
       "      <td>0.622222</td>\n",
       "      <td>0.729730</td>\n",
       "      <td>0.733333</td>\n",
       "      <td>0.736842</td>\n",
       "      <td>0.760563</td>\n",
       "      <td>0.758621</td>\n",
       "    </tr>\n",
       "  </tbody>\n",
       "</table>\n",
       "</div>"
      ],
      "text/plain": [
       "    model_name  macro_precision  macro_recall  macro_f1  p_works_at  \\\n",
       "0   nk_LUKE_re         0.951775      0.983584  0.966412    1.000000   \n",
       "1  nk_REBEL_re         0.827686      0.695095  0.752009    0.903226   \n",
       "\n",
       "   p_partners_with  p_acquired_by  r_works_at  r_partners_with  r_acquired_by  \\\n",
       "0         0.972973       0.882353    0.977778         0.972973       1.000000   \n",
       "1         0.794118       0.785714    0.622222         0.729730       0.733333   \n",
       "\n",
       "   f1_works_at  f1_partners_with  f1_acquired_by  \n",
       "0     0.988764          0.972973        0.937500  \n",
       "1     0.736842          0.760563        0.758621  "
      ]
     },
     "execution_count": 39,
     "metadata": {},
     "output_type": "execute_result"
    }
   ],
   "source": [
    "results.loc[len(results)] = result_rebel_finetuned\n",
    "results"
   ]
  },
  {
   "cell_type": "code",
   "execution_count": 55,
   "metadata": {},
   "outputs": [],
   "source": [
    "results.to_csv(path_to_results + 'relation_extraction_18_06_2024.csv', index=False)"
   ]
  },
  {
   "cell_type": "markdown",
   "metadata": {},
   "source": [
    "## RE, REBEL: Inference"
   ]
  },
  {
   "cell_type": "code",
   "execution_count": 40,
   "metadata": {},
   "outputs": [],
   "source": [
    "def extract_triplets(text):\n",
    "\n",
    "    triplets = []\n",
    "    relation, subject, relation, object_ = '', '', '', ''\n",
    "    text = text.strip()\n",
    "    current = 'x'\n",
    "    for token in text.replace(\"<s>\", \"\").replace(\"<pad>\", \"\").replace(\"</s>\", \"\").split():\n",
    "        if token == \"<triplet>\":\n",
    "            current = 't'\n",
    "            if relation != '':\n",
    "                triplets.append({'head': subject.strip(), 'type': relation.strip(),'tail': object_.strip()})\n",
    "                relation = ''\n",
    "            subject = ''\n",
    "        elif token == \"<subj>\":\n",
    "            current = 's'\n",
    "            if relation != '':\n",
    "                triplets.append({'head': subject.strip(), 'type': relation.strip(),'tail': object_.strip()})\n",
    "            object_ = ''\n",
    "        elif token == \"<obj>\":\n",
    "            current = 'o'\n",
    "            relation = ''\n",
    "        else:\n",
    "            if current == 't':\n",
    "                subject += ' ' + token\n",
    "            elif current == 's':\n",
    "                object_ += ' ' + token\n",
    "            elif current == 'o':\n",
    "                relation += ' ' + token\n",
    "    if subject != '' and relation != '' and object_ != '':\n",
    "        triplets.append({'head': subject.strip(), 'type': relation.strip(),'tail': object_.strip()})\n",
    "    \n",
    "    return triplets"
   ]
  },
  {
   "cell_type": "code",
   "execution_count": 41,
   "metadata": {},
   "outputs": [],
   "source": [
    "model_rebel_finetuned = AutoModelForSeq2SeqLM.from_pretrained(path_to_models + model_name_rebel_finetuned)"
   ]
  },
  {
   "cell_type": "code",
   "execution_count": 42,
   "metadata": {},
   "outputs": [
    {
     "name": "stdout",
     "output_type": "stream",
     "text": [
      "['<s><triplet> Walker Hayes <subj> Athletic Brewing Company <obj> works_at</s>']\n",
      "Prediction triplets sentence 0\n",
      "[{'head': 'Walker Hayes', 'type': 'works_at', 'tail': 'Athletic Brewing Company'}]\n"
     ]
    }
   ],
   "source": [
    "text = \"Athletic Brewing Company Announces Country Music Star Walker Hayes As New CFO, Chief Fancy Officer.\"\n",
    "\n",
    "model_inputs = tokenizer_rebel(text, max_length=256, padding=True, truncation=True, return_tensors = 'pt')\n",
    "\n",
    "# Generate\n",
    "generated_tokens = model_rebel_finetuned.generate(\n",
    "    model_inputs[\"input_ids\"].to(model_rebel_finetuned.device),\n",
    "    attention_mask=model_inputs[\"attention_mask\"].to(model_rebel_finetuned.device),\n",
    "    **gen_kwargs\n",
    ")\n",
    "\n",
    "# Extract text\n",
    "decoded_preds = tokenizer_rebel.batch_decode(generated_tokens, skip_special_tokens=False)\n",
    "print(decoded_preds)\n",
    "\n",
    "# Extract triplets\n",
    "for idx, sentence in enumerate(decoded_preds):\n",
    "    print(f'Prediction triplets sentence {idx}')\n",
    "    print(extract_triplets(sentence))"
   ]
  },
  {
   "cell_type": "markdown",
   "metadata": {},
   "source": [
    "# Appendix"
   ]
  },
  {
   "cell_type": "code",
   "execution_count": 53,
   "metadata": {},
   "outputs": [
    {
     "name": "stdout",
     "output_type": "stream",
     "text": [
      "Prediction triplets sentence 0\n",
      "[{'head': 'Punta Cana', 'type': 'located in the administrative territorial entity', 'tail': 'La Altagracia Province'}, {'head': 'Punta Cana', 'type': 'country', 'tail': 'Dominican Republic'}, {'head': 'Higüey', 'type': 'located in the administrative territorial entity', 'tail': 'La Altagracia Province'}, {'head': 'Higüey', 'type': 'country', 'tail': 'Dominican Republic'}, {'head': 'La Altagracia Province', 'type': 'country', 'tail': 'Dominican Republic'}, {'head': 'Dominican Republic', 'type': 'contains administrative territorial entity', 'tail': 'La Altagracia Province'}]\n"
     ]
    }
   ],
   "source": [
    "# Rebel example\n",
    "\n",
    "from transformers import AutoModelForSeq2SeqLM, AutoTokenizer\n",
    "\n",
    "def extract_triplets(text):\n",
    "    triplets = []\n",
    "    relation, subject, relation, object_ = '', '', '', ''\n",
    "    text = text.strip()\n",
    "    current = 'x'\n",
    "    for token in text.replace(\"<s>\", \"\").replace(\"<pad>\", \"\").replace(\"</s>\", \"\").split():\n",
    "        if token == \"<triplet>\":\n",
    "            current = 't'\n",
    "            if relation != '':\n",
    "                triplets.append({'head': subject.strip(), 'type': relation.strip(),'tail': object_.strip()})\n",
    "                relation = ''\n",
    "            subject = ''\n",
    "        elif token == \"<subj>\":\n",
    "            current = 's'\n",
    "            if relation != '':\n",
    "                triplets.append({'head': subject.strip(), 'type': relation.strip(),'tail': object_.strip()})\n",
    "            object_ = ''\n",
    "        elif token == \"<obj>\":\n",
    "            current = 'o'\n",
    "            relation = ''\n",
    "        else:\n",
    "            if current == 't':\n",
    "                subject += ' ' + token\n",
    "            elif current == 's':\n",
    "                object_ += ' ' + token\n",
    "            elif current == 'o':\n",
    "                relation += ' ' + token\n",
    "    if subject != '' and relation != '' and object_ != '':\n",
    "        triplets.append({'head': subject.strip(), 'type': relation.strip(),'tail': object_.strip()})\n",
    "    return triplets\n",
    "\n",
    "# Load model and tokenizer\n",
    "tokenizer = AutoTokenizer.from_pretrained(\"Babelscape/rebel-large\")\n",
    "model = AutoModelForSeq2SeqLM.from_pretrained(\"Babelscape/rebel-large\")\n",
    "gen_kwargs = {\n",
    "    \"max_length\": 256,\n",
    "    \"length_penalty\": 0,\n",
    "    \"num_beams\": 3,\n",
    "    \"num_return_sequences\": 1,\n",
    "}\n",
    "\n",
    "# Text to extract triplets from\n",
    "text = '''\n",
    "    Punta Cana is a resort town in the municipality of Higüey, in La Altagracia Province, \n",
    "    the easternmost province of the Dominican Republic.\n",
    "'''\n",
    "\n",
    "# Tokenizer text\n",
    "model_inputs = tokenizer(text, max_length=256, padding=True, truncation=True, return_tensors = 'pt')\n",
    "\n",
    "# Generate\n",
    "generated_tokens = model.generate(\n",
    "    model_inputs[\"input_ids\"].to(model.device),\n",
    "    attention_mask=model_inputs[\"attention_mask\"].to(model.device),\n",
    "    **gen_kwargs,\n",
    ")\n",
    "\n",
    "# Extract text\n",
    "decoded_preds = tokenizer.batch_decode(generated_tokens, skip_special_tokens=False)\n",
    "\n",
    "# Extract triplets\n",
    "for idx, sentence in enumerate(decoded_preds):\n",
    "    print(f'Prediction triplets sentence {idx}')\n",
    "    print(extract_triplets(sentence))\n",
    "\n"
   ]
  },
  {
   "cell_type": "code",
   "execution_count": 54,
   "metadata": {},
   "outputs": [
    {
     "data": {
      "text/plain": [
       "['<s><triplet> Punta Cana <subj> La Altagracia Province <obj> located in the administrative territorial entity <subj> Dominican Republic <obj> country <triplet> Higüey <subj> La Altagracia Province <obj> located in the administrative territorial entity <subj> Dominican Republic <obj> country <triplet> La Altagracia Province <subj> Dominican Republic <obj> country <triplet> Dominican Republic <subj> La Altagracia Province <obj> contains administrative territorial entity</s>']"
      ]
     },
     "execution_count": 54,
     "metadata": {},
     "output_type": "execute_result"
    }
   ],
   "source": [
    "decoded_preds"
   ]
  }
 ],
 "metadata": {
  "kernelspec": {
   "display_name": "python3_11",
   "language": "python",
   "name": "python3"
  },
  "language_info": {
   "codemirror_mode": {
    "name": "ipython",
    "version": 3
   },
   "file_extension": ".py",
   "mimetype": "text/x-python",
   "name": "python",
   "nbconvert_exporter": "python",
   "pygments_lexer": "ipython3",
   "version": "3.11.9"
  }
 },
 "nbformat": 4,
 "nbformat_minor": 2
}
