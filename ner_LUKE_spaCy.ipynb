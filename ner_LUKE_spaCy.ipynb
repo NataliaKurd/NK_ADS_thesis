{
 "cells": [
  {
   "cell_type": "code",
   "execution_count": 24,
   "metadata": {},
   "outputs": [],
   "source": [
    "import re\n",
    "import json\n",
    "import random\n",
    "import pandas as pd\n",
    "import numpy as np\n",
    "from tqdm.auto import tqdm\n",
    "\n",
    "# plots\n",
    "import matplotlib.pyplot as plt\n",
    "import seaborn as sns\n",
    "\n",
    "# to split text into sentences\n",
    "from nltk.tokenize import sent_tokenize\n",
    "\n",
    "# for model fine-tuning\n",
    "import torch\n",
    "from torch.utils.data import Dataset, DataLoader\n",
    "from torch.nn.utils.rnn import pad_sequence\n",
    "\n",
    "# LUKE model\n",
    "from transformers import LukeTokenizer, LukeForEntitySpanClassification, \\\n",
    "    DataCollatorWithPadding, AdamW, get_scheduler\n",
    "\n",
    "# spaCy model\n",
    "import spacy\n",
    "from spacy.tokens import DocBin\n",
    "from spacy.util import filter_spans\n",
    "from spacy import displacy\n",
    "\n",
    "plt.style.use('seaborn-v0_8')"
   ]
  },
  {
   "cell_type": "code",
   "execution_count": 25,
   "metadata": {},
   "outputs": [],
   "source": [
    "path_to_data = '../benchmark_data/'\n",
    "path_to_models = 'models/'\n",
    "path_to_results = 'results/'\n",
    "path_to_plots = 'plots/'"
   ]
  },
  {
   "cell_type": "markdown",
   "metadata": {},
   "source": [
    "# NER, Data"
   ]
  },
  {
   "cell_type": "code",
   "execution_count": 26,
   "metadata": {},
   "outputs": [],
   "source": [
    "results = pd.DataFrame(columns=['model_name', 'macro_precision', 'macro_recall', 'macro_f1', 'p_PER', 'p_ORG', 'r_PER', 'r_ORG', 'f1_PER', 'f1_ORG'])"
   ]
  },
  {
   "cell_type": "code",
   "execution_count": 27,
   "metadata": {},
   "outputs": [],
   "source": [
    "# transform from json to pd.DataFrame\n",
    "\n",
    "def split_text_into_sentences(row):\n",
    "    \"\"\"Splits each instance into multiple sentences with corresponding entities.\"\"\"\n",
    "\n",
    "    # split text into sentences\n",
    "    sentences = sent_tokenize(row['text'])\n",
    "    entities = row['entities']\n",
    "    entity_spans = row['entity_spans']\n",
    "    labels = row['labels']\n",
    "    \n",
    "    new_rows = []\n",
    "    # for each sentence find entities with adjusted spans\n",
    "    for sentence in sentences:\n",
    "\n",
    "        sentence_start_index = row['text'].find(sentence)\n",
    "        sentence_end_index = sentence_start_index + len(sentence)\n",
    "\n",
    "        sentence_entities = []\n",
    "        sentence_entity_spans = []\n",
    "        sentence_labels = []\n",
    "        \n",
    "        # filter entities, entity_spans, and labels for the current sentence\n",
    "        for entity, span, label in zip(entities, entity_spans, labels):\n",
    "            if span[0] >= sentence_start_index and span[1] <= sentence_end_index:\n",
    "                adjusted_span = (span[0] - sentence_start_index, span[1] - sentence_start_index)\n",
    "\n",
    "                sentence_entities.append(entity)\n",
    "                sentence_entity_spans.append(adjusted_span)\n",
    "                sentence_labels.append(label)\n",
    "        \n",
    "        # if sentence has entities add it to the dataset\n",
    "        if len(sentence_entities) != 0:\n",
    "            new_row = {\n",
    "                'text': sentence,\n",
    "                'entities': sentence_entities,\n",
    "                'entity_spans': sentence_entity_spans,\n",
    "                'labels': sentence_labels\n",
    "            }\n",
    "            \n",
    "            new_rows.append(new_row)\n",
    "    \n",
    "    return pd.DataFrame(new_rows)\n",
    "\n",
    "def transform_json_ner(path):\n",
    "    \"\"\"\n",
    "    Transforms json into pd.DataFrame.\n",
    "    Args:\n",
    "        path : string that contains path to the json file\n",
    "    \"\"\"\n",
    "\n",
    "    with open(path) as f:\n",
    "        data = json.load(f)\n",
    "\n",
    "    texts = []\n",
    "    entities = []\n",
    "    entity_spans = []\n",
    "    labels = []\n",
    "\n",
    "    for item in data:\n",
    "\n",
    "        item_entities = []\n",
    "        item_entity_spans = []\n",
    "        item_labels = []\n",
    "\n",
    "        text = item['data']['text']\n",
    "        annotations = item['annotations'][0]['result']\n",
    "\n",
    "        for annotation in annotations:\n",
    "\n",
    "            # get only entities out of the annotations dataset\n",
    "            if annotation['type'] == 'labels':\n",
    "\n",
    "                entity_span = (annotation['value']['start'], annotation['value']['end'])\n",
    "                entity = annotation['value']['text']\n",
    "                label = annotation['value']['labels'][0]\n",
    "\n",
    "                \n",
    "                item_entities.append(entity)\n",
    "                item_entity_spans.append(entity_span)\n",
    "                item_labels.append(label)\n",
    "\n",
    "        texts.append(text)\n",
    "        entities.append(item_entities)\n",
    "        entity_spans.append(item_entity_spans)\n",
    "        labels.append(item_labels)\n",
    "\n",
    "\n",
    "    df = pd.DataFrame({'text': texts, 'entities': entities, 'entity_spans': entity_spans, 'labels': labels})\n",
    "    df = pd.concat([split_text_into_sentences(row) for _, row in df.iterrows()], ignore_index=True)\n",
    "\n",
    "    return df"
   ]
  },
  {
   "cell_type": "code",
   "execution_count": 28,
   "metadata": {},
   "outputs": [
    {
     "data": {
      "text/html": [
       "<div>\n",
       "<style scoped>\n",
       "    .dataframe tbody tr th:only-of-type {\n",
       "        vertical-align: middle;\n",
       "    }\n",
       "\n",
       "    .dataframe tbody tr th {\n",
       "        vertical-align: top;\n",
       "    }\n",
       "\n",
       "    .dataframe thead th {\n",
       "        text-align: right;\n",
       "    }\n",
       "</style>\n",
       "<table border=\"1\" class=\"dataframe\">\n",
       "  <thead>\n",
       "    <tr style=\"text-align: right;\">\n",
       "      <th></th>\n",
       "      <th>text</th>\n",
       "      <th>entities</th>\n",
       "      <th>entity_spans</th>\n",
       "      <th>labels</th>\n",
       "    </tr>\n",
       "  </thead>\n",
       "  <tbody>\n",
       "    <tr>\n",
       "      <th>0</th>\n",
       "      <td>Zelensky is Pinocchio, officer tells The New Y...</td>\n",
       "      <td>[Zelensky, The New Yorker]</td>\n",
       "      <td>[(0, 8), (37, 51)]</td>\n",
       "      <td>[PER, ORG]</td>\n",
       "    </tr>\n",
       "    <tr>\n",
       "      <th>1</th>\n",
       "      <td>A Ukrainian officer interviewed by The New Yor...</td>\n",
       "      <td>[The New Yorker, Vladimir Zelensky, RT.com]</td>\n",
       "      <td>[(35, 49), (73, 90), (156, 162)]</td>\n",
       "      <td>[ORG, PER, ORG]</td>\n",
       "    </tr>\n",
       "    <tr>\n",
       "      <th>2</th>\n",
       "      <td>SmartBear Names SVP of Growth Marketing to Sca...</td>\n",
       "      <td>[SmartBear]</td>\n",
       "      <td>[(0, 9)]</td>\n",
       "      <td>[ORG]</td>\n",
       "    </tr>\n",
       "    <tr>\n",
       "      <th>3</th>\n",
       "      <td>Kevin Foster brings 25+ years of marketing exp...</td>\n",
       "      <td>[Kevin Foster, SmartBear, SmartBear, Kevin Fos...</td>\n",
       "      <td>[(0, 12), (89, 98), (99, 108), (192, 204)]</td>\n",
       "      <td>[PER, ORG, ORG, PER]</td>\n",
       "    </tr>\n",
       "    <tr>\n",
       "      <th>4</th>\n",
       "      <td>Kevin comes to SmartBear from the startup High...</td>\n",
       "      <td>[Kevin, SmartBear, Highway.ai]</td>\n",
       "      <td>[(0, 5), (15, 24), (42, 52)]</td>\n",
       "      <td>[PER, ORG, ORG]</td>\n",
       "    </tr>\n",
       "    <tr>\n",
       "      <th>...</th>\n",
       "      <td>...</td>\n",
       "      <td>...</td>\n",
       "      <td>...</td>\n",
       "      <td>...</td>\n",
       "    </tr>\n",
       "    <tr>\n",
       "      <th>575</th>\n",
       "      <td>Top End Energy Advances Low-Carbon Vision.</td>\n",
       "      <td>[Top End Energy]</td>\n",
       "      <td>[(0, 14)]</td>\n",
       "      <td>[ORG]</td>\n",
       "    </tr>\n",
       "    <tr>\n",
       "      <th>576</th>\n",
       "      <td>Top End Energy Limited (AU:TEE) has released a...</td>\n",
       "      <td>[Top End Energy Limited]</td>\n",
       "      <td>[(0, 22)]</td>\n",
       "      <td>[ORG]</td>\n",
       "    </tr>\n",
       "    <tr>\n",
       "      <th>577</th>\n",
       "      <td>Top End Energy Limited, an Australian energy c...</td>\n",
       "      <td>[Top End Energy Limited]</td>\n",
       "      <td>[(0, 22)]</td>\n",
       "      <td>[ORG]</td>\n",
       "    </tr>\n",
       "    <tr>\n",
       "      <th>578</th>\n",
       "      <td>Azelis Expands Its Portfolio in Germany With t...</td>\n",
       "      <td>[Azelis, DBH Osthandelsgesellschaft mbH]</td>\n",
       "      <td>[(0, 6), (102, 132)]</td>\n",
       "      <td>[ORG, ORG]</td>\n",
       "    </tr>\n",
       "    <tr>\n",
       "      <th>579</th>\n",
       "      <td>Regulatory News: Azelis (Brussels:AZE), a lead...</td>\n",
       "      <td>[Azelis, DBH Osthandelsgesellschaft mbH, DBH]</td>\n",
       "      <td>[(17, 23), (225, 255), (258, 261)]</td>\n",
       "      <td>[ORG, ORG, ORG]</td>\n",
       "    </tr>\n",
       "  </tbody>\n",
       "</table>\n",
       "<p>580 rows × 4 columns</p>\n",
       "</div>"
      ],
      "text/plain": [
       "                                                  text  \\\n",
       "0    Zelensky is Pinocchio, officer tells The New Y...   \n",
       "1    A Ukrainian officer interviewed by The New Yor...   \n",
       "2    SmartBear Names SVP of Growth Marketing to Sca...   \n",
       "3    Kevin Foster brings 25+ years of marketing exp...   \n",
       "4    Kevin comes to SmartBear from the startup High...   \n",
       "..                                                 ...   \n",
       "575         Top End Energy Advances Low-Carbon Vision.   \n",
       "576  Top End Energy Limited (AU:TEE) has released a...   \n",
       "577  Top End Energy Limited, an Australian energy c...   \n",
       "578  Azelis Expands Its Portfolio in Germany With t...   \n",
       "579  Regulatory News: Azelis (Brussels:AZE), a lead...   \n",
       "\n",
       "                                              entities  \\\n",
       "0                           [Zelensky, The New Yorker]   \n",
       "1          [The New Yorker, Vladimir Zelensky, RT.com]   \n",
       "2                                          [SmartBear]   \n",
       "3    [Kevin Foster, SmartBear, SmartBear, Kevin Fos...   \n",
       "4                       [Kevin, SmartBear, Highway.ai]   \n",
       "..                                                 ...   \n",
       "575                                   [Top End Energy]   \n",
       "576                           [Top End Energy Limited]   \n",
       "577                           [Top End Energy Limited]   \n",
       "578           [Azelis, DBH Osthandelsgesellschaft mbH]   \n",
       "579      [Azelis, DBH Osthandelsgesellschaft mbH, DBH]   \n",
       "\n",
       "                                   entity_spans                labels  \n",
       "0                            [(0, 8), (37, 51)]            [PER, ORG]  \n",
       "1              [(35, 49), (73, 90), (156, 162)]       [ORG, PER, ORG]  \n",
       "2                                      [(0, 9)]                 [ORG]  \n",
       "3    [(0, 12), (89, 98), (99, 108), (192, 204)]  [PER, ORG, ORG, PER]  \n",
       "4                  [(0, 5), (15, 24), (42, 52)]       [PER, ORG, ORG]  \n",
       "..                                          ...                   ...  \n",
       "575                                   [(0, 14)]                 [ORG]  \n",
       "576                                   [(0, 22)]                 [ORG]  \n",
       "577                                   [(0, 22)]                 [ORG]  \n",
       "578                        [(0, 6), (102, 132)]            [ORG, ORG]  \n",
       "579          [(17, 23), (225, 255), (258, 261)]       [ORG, ORG, ORG]  \n",
       "\n",
       "[580 rows x 4 columns]"
      ]
     },
     "execution_count": 28,
     "metadata": {},
     "output_type": "execute_result"
    }
   ],
   "source": [
    "df_ner = transform_json_ner(path_to_data + 'annotations.json')\n",
    "train_split = pd.read_csv(path_to_data + 'train_test_split/train.csv')\n",
    "test_split = pd.read_csv(path_to_data + 'train_test_split/test.csv')\n",
    "\n",
    "# select senteces for train and test dataframes\n",
    "train_df = pd.merge(df_ner, train_split, how='inner', on='text')\n",
    "test_df = pd.merge(df_ner, test_split, how='inner', on='text')\n",
    "\n",
    "df_ner\n"
   ]
  },
  {
   "cell_type": "code",
   "execution_count": 29,
   "metadata": {},
   "outputs": [
    {
     "data": {
      "image/png": "[encoded data removed]",
      "text/plain": [
       "<Figure size 1000x600 with 1 Axes>"
      ]
     },
     "metadata": {},
     "output_type": "display_data"
    }
   ],
   "source": [
    "# plot the class distribution in the data set\n",
    "\n",
    "all_labels = [label for sublist in df_ner['labels'] for label in sublist]\n",
    "\n",
    "plt.figure(figsize=(10, 6))\n",
    "value_counts = pd.Series(all_labels).value_counts()\n",
    "ax = value_counts.plot(kind='bar')\n",
    "\n",
    "for i in ax.containers:\n",
    "    ax.bar_label(i, label_type='edge')\n",
    "\n",
    "plt.xlabel('Entity Type')\n",
    "plt.ylabel('Count')\n",
    "plt.title('Histogram of Entity Types')\n",
    "plt.xticks(rotation=0)\n",
    "plt.savefig(path_to_plots + 'benchmark_for_ner.png')\n",
    "plt.show()"
   ]
  },
  {
   "cell_type": "code",
   "execution_count": 30,
   "metadata": {},
   "outputs": [
    {
     "data": {
      "image/png": "[encoded data removed]",
      "text/plain": [
       "<Figure size 1200x600 with 2 Axes>"
      ]
     },
     "metadata": {},
     "output_type": "display_data"
    }
   ],
   "source": [
    "fig, (ax1, ax2) = plt.subplots(1, 2, figsize=(12, 6))\n",
    "\n",
    "all_labels_train = [label for sublist in train_df['labels'] for label in sublist]\n",
    "train_value_counts = pd.Series(all_labels_train).value_counts()\n",
    "ax1.bar(train_value_counts.index, train_value_counts.values)\n",
    "\n",
    "for i in ax1.patches:\n",
    "    ax1.text(i.get_x() + i.get_width() / 2, i.get_height(), str(i.get_height()), ha='center', va='bottom')\n",
    "\n",
    "ax1.set_xlabel('Entity Type')\n",
    "ax1.set_ylabel('Count')\n",
    "ax1.set_title('Histogram of Entity Types, train')\n",
    "ax1.tick_params(axis='x', rotation=0) \n",
    "\n",
    "\n",
    "all_labels_test = [label for sublist in test_df['labels'] for label in sublist]\n",
    "test_value_counts = pd.Series(all_labels_test).value_counts()\n",
    "ax2.bar(test_value_counts.index, test_value_counts.values)\n",
    "\n",
    "for i in ax2.patches:\n",
    "    ax2.text(i.get_x() + i.get_width() / 2, i.get_height(), str(i.get_height()), ha='center', va='bottom')\n",
    "\n",
    "ax2.set_xlabel('Entity Type')\n",
    "ax2.set_ylabel('Count')\n",
    "ax2.set_title('Histogram of Entity Types, test')\n",
    "ax2.tick_params(axis='x', rotation=0)\n",
    "\n",
    "plt.tight_layout()\n",
    "plt.savefig(path_to_plots + 'ner_test_train.png')\n",
    "\n",
    "plt.show()\n"
   ]
  },
  {
   "cell_type": "markdown",
   "metadata": {},
   "source": [
    "# NER, LUKE"
   ]
  },
  {
   "cell_type": "code",
   "execution_count": 31,
   "metadata": {},
   "outputs": [
    {
     "name": "stderr",
     "output_type": "stream",
     "text": [
      "Some weights of LukeForEntitySpanClassification were not initialized from the model checkpoint at studio-ousia/luke-base and are newly initialized: ['classifier.bias', 'classifier.weight']\n",
      "You should probably TRAIN this model on a down-stream task to be able to use it for predictions and inference.\n",
      "Some weights of the model checkpoint at studio-ousia/luke-large-finetuned-conll-2003 were not used when initializing LukeForEntitySpanClassification: ['luke.embeddings.position_ids']\n",
      "- This IS expected if you are initializing LukeForEntitySpanClassification from the checkpoint of a model trained on another task or with another architecture (e.g. initializing a BertForSequenceClassification model from a BertForPreTraining model).\n",
      "- This IS NOT expected if you are initializing LukeForEntitySpanClassification from the checkpoint of a model that you expect to be exactly identical (initializing a BertForSequenceClassification model from a BertForSequenceClassification model).\n",
      "Special tokens have been added in the vocabulary, make sure the associated word embeddings are fine-tuned or trained.\n",
      "Special tokens have been added in the vocabulary, make sure the associated word embeddings are fine-tuned or trained.\n"
     ]
    }
   ],
   "source": [
    "# models' names\n",
    "model_name_luke_base = \"studio-ousia/luke-base\"\n",
    "model_name_nk_finetuned = \"nk_LUKE_ner\"\n",
    "model_name_conll_2003 = \"studio-ousia/luke-large-finetuned-conll-2003\"\n",
    "\n",
    "task_entity_span = \"entity_span_classification\"\n",
    "\n",
    "# NIL - No Information Label\n",
    "id2label = {0: 'NIL', 1: 'PER', 2: 'ORG'}\n",
    "label2id = {v:k for k,v in id2label.items()}\n",
    "\n",
    "# models\n",
    "model_luke_base = LukeForEntitySpanClassification.from_pretrained(model_name_luke_base, num_labels=len(label2id), id2label=id2label, label2id=label2id)\n",
    "model_conll_2003 = LukeForEntitySpanClassification.from_pretrained(model_name_conll_2003)\n",
    "\n",
    "# tokenizer\n",
    "tokenizer_luke_base = LukeTokenizer.from_pretrained(model_name_luke_base, task=task_entity_span)\n",
    "tokenizer_conll_2003 = LukeTokenizer.from_pretrained(model_name_conll_2003, task=task_entity_span)\n",
    "\n",
    "# parameters for fine-tuning\n",
    "train_batch = 4\n",
    "test_batch = 2\n",
    "epochs = 4\n",
    "lr=5e-5"
   ]
  },
  {
   "cell_type": "code",
   "execution_count": 32,
   "metadata": {},
   "outputs": [
    {
     "data": {
      "text/plain": [
       "device(type='cpu')"
      ]
     },
     "execution_count": 32,
     "metadata": {},
     "output_type": "execute_result"
    }
   ],
   "source": [
    "device = torch.device(\"cuda\") if torch.cuda.is_available() else torch.device(\"cpu\")\n",
    "model_luke_base.to(device)\n",
    "device"
   ]
  },
  {
   "cell_type": "markdown",
   "metadata": {},
   "source": [
    "## 2. NER, LUKE: DataSet, tokenizer "
   ]
  },
  {
   "cell_type": "code",
   "execution_count": 33,
   "metadata": {},
   "outputs": [],
   "source": [
    "class CustomDataCollatorWithPadding(DataCollatorWithPadding):\n",
    "    \"\"\"Custom DataCollatorWithPadding to pad labels as well\"\"\"\n",
    "\n",
    "    def __call__(self, features):\n",
    "        batch = {}\n",
    "        for key in features[0].keys():\n",
    "            try:\n",
    "                if key != \"labels\":\n",
    "                    batch[key] = pad_sequence([feature[key] for feature in features], batch_first=True, padding_value=self.tokenizer.pad_token_id)\n",
    "                else:\n",
    "                    # padd labels list with 0 - NIL label\n",
    "                    batch[key] = pad_sequence([feature[key] for feature in features], batch_first=True, padding_value=0)\n",
    "            except:\n",
    "                print(features)\n",
    "\n",
    "        return batch\n",
    "\n",
    "\n",
    "class NERDataset(Dataset):\n",
    "    \"\"\"Named entitry recognition dataset\"\"\"\n",
    "\n",
    "    word_start_pattern = re.compile(r'\\b\\w')\n",
    "    word_end_pattern = re.compile(r'\\w\\b')\n",
    "\n",
    "    def __init__(self, data, tokenizer):\n",
    "        \"\"\"\n",
    "        Args:\n",
    "            data : Pandas dataframe.\n",
    "            tokenizer : tokenizer to encode data.\n",
    "        \"\"\"\n",
    "        self.data = data\n",
    "        self.tokenizer = tokenizer\n",
    "\n",
    "    def __len__(self):\n",
    "        return len(self.data)\n",
    "\n",
    "    def __getitem__(self, idx):\n",
    "\n",
    "        item = self.data.iloc[idx]\n",
    "\n",
    "        text = item.text\n",
    "        entity_spans = item.entity_spans\n",
    "        entities = item.entities\n",
    "        labels = item.labels\n",
    "\n",
    "        model_entity_spans = self.return_entity_span(idx)\n",
    "        model_labels = []\n",
    "\n",
    "        # encode text, entity_spans\n",
    "        # we use only truncation, as we will perform padding for each batch\n",
    "        # max_entiry_lenght is number of entity spans we have generated. So, we pass to the models each entiry we have generated\n",
    "        encoding = self.tokenizer(text, entity_spans=model_entity_spans, truncation=True, return_tensors=\"pt\", max_entity_length=len(model_entity_spans))\n",
    "\n",
    "        for k,v in encoding.items():\n",
    "          encoding[k] = encoding[k].squeeze()\n",
    "           \n",
    "        # in case the input is only one word we need to add dimention to tensors\n",
    "        if list(encoding['entity_ids'].size()) == []:\n",
    "            encoding['entity_ids'] = encoding['entity_ids'].unsqueeze(0)\n",
    "            encoding['entity_position_ids'] = encoding['entity_position_ids'].unsqueeze(0)\n",
    "            encoding['entity_start_positions'] = encoding['entity_start_positions'].unsqueeze(0)\n",
    "            encoding['entity_end_positions'] = encoding['entity_end_positions'].unsqueeze(0)\n",
    "            encoding['entity_attention_mask'] = encoding['entity_attention_mask'].unsqueeze(0)\n",
    "\n",
    "        # create label variable torch.tensor(batch_size, entity_length), where 'max_entity_length' can be changed.\n",
    "        # the label variable contains labels for each entity span we have generated.\n",
    "        # for single-label classification - one label per instance.\n",
    "        \n",
    "        model_labels = [0] * len(encoding['entity_start_positions'])\n",
    "\n",
    "        for i, model_tuple in enumerate(model_entity_spans): \n",
    "            \n",
    "            if model_tuple in entity_spans:\n",
    "\n",
    "                index = entity_spans.index(model_tuple)\n",
    "                l = labels[index]\n",
    "\n",
    "                model_labels[i] = label2id[l]\n",
    "\n",
    "        encoding[\"labels\"] = torch.tensor(model_labels)\n",
    "\n",
    "        return encoding\n",
    "    \n",
    "    def return_entity_span(self, idx):\n",
    "\n",
    "        item = self.data.iloc[idx]\n",
    "\n",
    "        text = item.text\n",
    "        entity_spans = item.entity_spans\n",
    "\n",
    "        model_entity_spans = []\n",
    "\n",
    "        # word start and end positions to calculate spans \n",
    "        word_start_positions = [match.start() for match in NERDataset.word_start_pattern.finditer(text)]\n",
    "        word_end_positions = [match.end() for match in NERDataset.word_end_pattern.finditer(text)] \n",
    "\n",
    "        # all possible entity spans\n",
    "        # we consider only entity spans that are not longer then 6 words\n",
    "        for i, start_pos in enumerate(word_start_positions):\n",
    "            for end_pos in word_end_positions[i:i+6]:\n",
    "                model_entity_spans.append((start_pos, end_pos))\n",
    "\n",
    "        # in case not all required entities are detedted, add entity spans from dataset\n",
    "        model_entity_spans = list(set(model_entity_spans).union(set(entity_spans)))\n",
    "\n",
    "        model_entity_spans.sort(key=lambda x: x[0])\n",
    "\n",
    "        return model_entity_spans\n",
    "    \n",
    "    def return_item(self, idx):\n",
    "\n",
    "        item = self.data.iloc[idx]\n",
    "\n",
    "        text = item.text\n",
    "        entity_spans = item.entity_spans\n",
    "        entities = item.entities\n",
    "        labels = item.labels\n",
    "\n",
    "        return text, entity_spans, entities, labels\n",
    "    \n",
    "def return_datasets_luke(test_df, train_df, tokenizer):\n",
    "    test_dataset = NERDataset(test_df, tokenizer)\n",
    "    train_dataset = NERDataset(train_df, tokenizer)\n",
    "\n",
    "    return test_dataset, train_dataset\n",
    "\n",
    "\n",
    "def return_dataloader_luke(test_df, train_df, tokenizer):\n",
    "    # use DataCollator to implement padding for the batch ranther than the full dataset\n",
    "    data_collator = CustomDataCollatorWithPadding(tokenizer)\n",
    "\n",
    "    test_dataset, train_dataset = return_datasets_luke(test_df, train_df, tokenizer)\n",
    "\n",
    "    # suffle = Ture, suffle at the end of each epoch\n",
    "    test_dataloader = DataLoader(test_dataset, batch_size=test_batch, collate_fn=data_collator)\n",
    "    train_dataloader = DataLoader(train_dataset, batch_size=train_batch, shuffle=True, collate_fn=data_collator)\n",
    "\n",
    "    return test_dataloader, train_dataloader"
   ]
  },
  {
   "cell_type": "code",
   "execution_count": 34,
   "metadata": {},
   "outputs": [],
   "source": [
    "test_finetune_dataset, train_finetune_dataset = return_datasets_luke(test_df, train_df, tokenizer_luke_base)\n",
    "test_finetune_dataloader, train_finetune_dataloader = return_dataloader_luke(test_df, train_df, tokenizer_luke_base)\n",
    "\n",
    "test_conll_2003_dataset, train_conll_2003_dataset = return_datasets_luke(test_df, train_df, tokenizer_conll_2003)\n",
    "test_conll_2003_dataloader, train_conll_2003_dataloader = return_dataloader_luke(test_df, train_df, tokenizer_conll_2003)"
   ]
  },
  {
   "cell_type": "markdown",
   "metadata": {},
   "source": [
    "## 3. NER, LUKE: test batch before fine-tuning"
   ]
  },
  {
   "cell_type": "code",
   "execution_count": 35,
   "metadata": {},
   "outputs": [
    {
     "data": {
      "text/plain": [
       "{'input_ids': torch.Size([4, 97]),\n",
       " 'entity_ids': torch.Size([4, 304]),\n",
       " 'entity_position_ids': torch.Size([4, 304, 30]),\n",
       " 'entity_start_positions': torch.Size([4, 304]),\n",
       " 'entity_end_positions': torch.Size([4, 304]),\n",
       " 'attention_mask': torch.Size([4, 97]),\n",
       " 'entity_attention_mask': torch.Size([4, 304]),\n",
       " 'labels': torch.Size([4, 304])}"
      ]
     },
     "execution_count": 35,
     "metadata": {},
     "output_type": "execute_result"
    }
   ],
   "source": [
    "for batch in train_finetune_dataloader:\n",
    "    break\n",
    "{k: v.shape for k, v in batch.items()}"
   ]
  },
  {
   "cell_type": "code",
   "execution_count": 36,
   "metadata": {},
   "outputs": [
    {
     "data": {
      "text/plain": [
       "'<s>LI-COR Environmental Acquires Onset.</s><pad><pad><pad><pad><pad><pad><pad><pad><pad><pad><pad><pad><pad><pad><pad><pad><pad><pad><pad><pad><pad><pad><pad><pad><pad><pad><pad><pad><pad><pad><pad><pad><pad><pad><pad><pad><pad><pad><pad><pad><pad><pad><pad><pad><pad><pad><pad><pad><pad><pad><pad><pad><pad><pad><pad><pad><pad><pad><pad><pad><pad><pad><pad><pad><pad><pad><pad><pad><pad><pad><pad><pad><pad><pad><pad><pad><pad><pad><pad><pad><pad><pad><pad><pad><pad><pad>'"
      ]
     },
     "execution_count": 36,
     "metadata": {},
     "output_type": "execute_result"
    }
   ],
   "source": [
    "tokenizer_luke_base.decode(batch['input_ids'][0])"
   ]
  },
  {
   "cell_type": "code",
   "execution_count": 37,
   "metadata": {},
   "outputs": [
    {
     "data": {
      "text/plain": [
       "tensor([2, 0, 0, 0, 0, 0, 0, 0, 0, 0, 0, 0, 0, 0, 2, 0, 0, 0, 0, 0, 0, 0, 0, 0,\n",
       "        0, 0, 0, 0, 0, 0, 0, 0, 0, 0, 0, 0, 0, 0, 0, 0, 0, 0, 0, 0, 0, 0, 0, 0,\n",
       "        0, 0, 0, 0, 0, 0, 0, 0, 0, 0, 0, 0, 0, 0, 0, 0, 0, 0, 0, 0, 0, 0, 0, 0,\n",
       "        0, 0, 0, 0, 0, 0, 0, 0, 0, 0, 0, 0, 0, 0, 0, 0, 0, 0, 0, 0, 0, 0, 0, 0,\n",
       "        0, 0, 0, 0, 0, 0, 0, 0, 0, 0, 0, 0, 0, 0, 0, 0, 0, 0, 0, 0, 0, 0, 0, 0,\n",
       "        0, 0, 0, 0, 0, 0, 0, 0, 0, 0, 0, 0, 0, 0, 0, 0, 0, 0, 0, 0, 0, 0, 0, 0,\n",
       "        0, 0, 0, 0, 0, 0, 0, 0, 0, 0, 0, 0, 0, 0, 0, 0, 0, 0, 0, 0, 0, 0, 0, 0,\n",
       "        0, 0, 0, 0, 0, 0, 0, 0, 0, 0, 0, 0, 0, 0, 0, 0, 0, 0, 0, 0, 0, 0, 0, 0,\n",
       "        0, 0, 0, 0, 0, 0, 0, 0, 0, 0, 0, 0, 0, 0, 0, 0, 0, 0, 0, 0, 0, 0, 0, 0,\n",
       "        0, 0, 0, 0, 0, 0, 0, 0, 0, 0, 0, 0, 0, 0, 0, 0, 0, 0, 0, 0, 0, 0, 0, 0,\n",
       "        0, 0, 0, 0, 0, 0, 0, 0, 0, 0, 0, 0, 0, 0, 0, 0, 0, 0, 0, 0, 0, 0, 0, 0,\n",
       "        0, 0, 0, 0, 0, 0, 0, 0, 0, 0, 0, 0, 0, 0, 0, 0, 0, 0, 0, 0, 0, 0, 0, 0,\n",
       "        0, 0, 0, 0, 0, 0, 0, 0, 0, 0, 0, 0, 0, 0, 0, 0])"
      ]
     },
     "execution_count": 37,
     "metadata": {},
     "output_type": "execute_result"
    }
   ],
   "source": [
    "batch['labels'][0]"
   ]
  },
  {
   "cell_type": "code",
   "execution_count": 38,
   "metadata": {},
   "outputs": [
    {
     "name": "stdout",
     "output_type": "stream",
     "text": [
      "tensor(0.9050, grad_fn=<NllLossBackward0>) torch.Size([4, 304, 3])\n"
     ]
    }
   ],
   "source": [
    "outputs = model_luke_base(**batch)\n",
    "print(outputs.loss, outputs.logits.shape)"
   ]
  },
  {
   "cell_type": "code",
   "execution_count": 39,
   "metadata": {},
   "outputs": [
    {
     "data": {
      "text/plain": [
       "tensor([0, 0, 0, 0, 0, 1, 0, 0, 1, 1, 1, 1, 1, 1, 1, 0, 0, 0, 0, 0, 0, 0, 0, 0,\n",
       "        0, 0, 0, 0, 0, 0, 0, 0, 0, 0, 0, 0, 0, 0, 0, 0, 0, 0, 0, 0, 0, 0, 0, 0,\n",
       "        0, 0, 0, 0, 0, 0, 0, 0, 0, 0, 0, 0, 0, 0, 0, 0, 0, 0, 0, 0, 0, 0, 0, 0,\n",
       "        0, 0, 0, 0, 0, 0, 0, 0, 0, 0, 0, 0, 0, 0, 0, 0, 0, 0, 0, 0, 0, 0, 0, 0,\n",
       "        0, 0, 0, 0, 0, 0, 0, 0, 0, 0, 0, 0, 0, 0, 0, 0, 0, 0, 0, 0, 0, 0, 0, 0,\n",
       "        0, 0, 0, 0, 0, 0, 0, 0, 0, 0, 0, 0, 0, 0, 0, 0, 0, 0, 0, 0, 0, 0, 0, 0,\n",
       "        0, 0, 0, 0, 0, 0, 0, 0, 0, 0, 0, 0, 0, 0, 0, 0, 0, 0, 0, 0, 0, 0, 0, 0,\n",
       "        0, 0, 0, 0, 0, 0, 0, 0, 0, 0, 0, 0, 0, 0, 0, 0, 0, 0, 0, 0, 0, 0, 0, 0,\n",
       "        0, 0, 0, 0, 0, 0, 0, 0, 0, 0, 0, 0, 0, 0, 0, 0, 0, 0, 0, 0, 0, 0, 0, 0,\n",
       "        0, 0, 0, 0, 0, 0, 0, 0, 0, 0, 0, 0, 0, 0, 0, 0, 0, 0, 0, 0, 0, 0, 0, 0,\n",
       "        0, 0, 0, 0, 0, 0, 0, 0, 0, 0, 0, 0, 0, 0, 0, 0, 0, 0, 0, 0, 0, 0, 0, 0,\n",
       "        0, 0, 0, 0, 0, 0, 0, 0, 0, 0, 0, 0, 0, 0, 0, 0, 0, 0, 0, 0, 0, 0, 0, 0,\n",
       "        0, 0, 0, 0, 0, 0, 0, 0, 0, 0, 0, 0, 0, 0, 0, 0])"
      ]
     },
     "execution_count": 39,
     "metadata": {},
     "output_type": "execute_result"
    }
   ],
   "source": [
    "outputs.logits[0].argmax(-1).squeeze()"
   ]
  },
  {
   "cell_type": "markdown",
   "metadata": {},
   "source": [
    "## 4. NER, LUKE: model fine-tuning"
   ]
  },
  {
   "cell_type": "code",
   "execution_count": 17,
   "metadata": {},
   "outputs": [],
   "source": [
    "# define the training function\n",
    "def train_model(model, dataloader, epochs=epochs, learning_rate=lr):\n",
    "    model.train()\n",
    "    optimizer = AdamW(model.parameters(), lr=learning_rate)\n",
    "\n",
    "    num_training_steps = epochs * len(dataloader)\n",
    "    lr_scheduler = get_scheduler(\n",
    "        name=\"linear\", optimizer=optimizer, num_warmup_steps=0, num_training_steps=num_training_steps\n",
    "    )\n",
    "\n",
    "    for epoch in range(epochs):\n",
    "        for batch in tqdm(dataloader):\n",
    "            optimizer.zero_grad()\n",
    "            \n",
    "            batch = {k: v.to(device) for k, v in batch.items()}\n",
    "            outputs = model(**batch)\n",
    "\n",
    "            loss = outputs.loss\n",
    "            loss.backward()\n",
    "            optimizer.step()\n",
    "            lr_scheduler.step()\n",
    "\n",
    "        print(f\"Epoch {epoch+1} completed with loss: {loss.item()}\")"
   ]
  },
  {
   "cell_type": "code",
   "execution_count": 18,
   "metadata": {},
   "outputs": [
    {
     "name": "stderr",
     "output_type": "stream",
     "text": [
      "/home/devuser1/miniconda3/envs/python3_11/lib/python3.11/site-packages/transformers/optimization.py:588: FutureWarning: This implementation of AdamW is deprecated and will be removed in a future version. Use the PyTorch implementation torch.optim.AdamW instead, or set `no_deprecation_warning=True` to disable this warning\n",
      "  warnings.warn(\n",
      "100%|██████████| 95/95 [07:42<00:00,  4.87s/it]\n"
     ]
    },
    {
     "name": "stdout",
     "output_type": "stream",
     "text": [
      "Epoch 1 completed with loss: 0.02919020690023899\n"
     ]
    },
    {
     "name": "stderr",
     "output_type": "stream",
     "text": [
      "100%|██████████| 95/95 [07:37<00:00,  4.82s/it]\n"
     ]
    },
    {
     "name": "stdout",
     "output_type": "stream",
     "text": [
      "Epoch 2 completed with loss: 0.026501700282096863\n"
     ]
    },
    {
     "name": "stderr",
     "output_type": "stream",
     "text": [
      "100%|██████████| 95/95 [07:27<00:00,  4.71s/it]\n"
     ]
    },
    {
     "name": "stdout",
     "output_type": "stream",
     "text": [
      "Epoch 3 completed with loss: 0.030348408967256546\n"
     ]
    },
    {
     "name": "stderr",
     "output_type": "stream",
     "text": [
      "100%|██████████| 95/95 [07:49<00:00,  4.94s/it]"
     ]
    },
    {
     "name": "stdout",
     "output_type": "stream",
     "text": [
      "Epoch 4 completed with loss: 0.016998687759041786\n"
     ]
    },
    {
     "name": "stderr",
     "output_type": "stream",
     "text": [
      "\n"
     ]
    }
   ],
   "source": [
    "# Train the model\n",
    "train_model(model_luke_base, train_finetune_dataloader)"
   ]
  },
  {
   "cell_type": "code",
   "execution_count": 19,
   "metadata": {},
   "outputs": [],
   "source": [
    "model_luke_base.save_pretrained(path_to_models + model_name_nk_finetuned)"
   ]
  },
  {
   "cell_type": "markdown",
   "metadata": {},
   "source": [
    "## 5. NER, LUKE: Evaluation"
   ]
  },
  {
   "cell_type": "code",
   "execution_count": 40,
   "metadata": {},
   "outputs": [],
   "source": [
    "# function to evaluate the luke model\n",
    "def evaluate_luke_model(model, name, dataloader):\n",
    "    model.eval()\n",
    "    labels = []\n",
    "    preds = []\n",
    "\n",
    "    class_labels = [1, 2]\n",
    "\n",
    "    TP = {1:0, 2:0}\n",
    "    FP = {1:0, 2:0}\n",
    "    FN = {1:0, 2:0}\n",
    "\n",
    "    precisions = []\n",
    "    recalls = []\n",
    "    f1_scores = []\n",
    "\n",
    "    with torch.no_grad():\n",
    "        for batch in tqdm(dataloader):\n",
    "\n",
    "            batch_labels = batch[\"labels\"]\n",
    "\n",
    "            batch = {k: v.to(device) for k, v in batch.items()}\n",
    "            outputs = model(**batch)\n",
    "\n",
    "            logits = outputs.logits\n",
    "            batch_preds = torch.argmax(logits, dim=-1)\n",
    "\n",
    "            labels.extend(batch_labels.numpy().tolist())\n",
    "            preds.extend(batch_preds.numpy().tolist())\n",
    "\n",
    "    true_labels = [item for sublist in labels for item in sublist]\n",
    "    \n",
    "    if len(model.config.id2label) > 3:\n",
    "        # adjust labels of the luke-large-finetuned-conll-2003 model\n",
    "        pred_labels = [item - 1 if model.config.id2label[item] in ['ORG', 'PER'] else 0 for sublist in preds for item in sublist]\n",
    "    else:\n",
    "        pred_labels = [item for sublist in preds for item in sublist]\n",
    "        \n",
    "    for t, p in zip(true_labels, pred_labels):\n",
    "        if t == p: \n",
    "            if t == 0: # if entity is 'NIL' skip\n",
    "                continue\n",
    "            elif t in class_labels: # entity type is correctly recognized by NER\n",
    "                TP[p] = TP[p] + 1\n",
    "        else:\n",
    "            if t == 0: # 'NIL' entity is classified, false positive for the predicted class\n",
    "                FP[p] = FP[p] + 1\n",
    "            elif p == 0: # false negative for the true class, as entity was not recognized\n",
    "                FN[t] = FN[t] + 1\n",
    "            else: # wrong entity type, flase negative for true class, false positive for predicted class\n",
    "                FP[p] = FP[p] + 1\n",
    "                FN[t] = FN[t] + 1\n",
    "\n",
    "    try:\n",
    "        for class_ in class_labels:\n",
    "            precision_class = TP[class_] / (TP[class_] + FP[class_])\n",
    "            recall_class = TP[class_] / (TP[class_] + FN[class_])\n",
    "\n",
    "            precisions.append(precision_class)\n",
    "            recalls.append(recall_class)\n",
    "            f1_scores.append(2 * precision_class * recall_class / (precision_class + recall_class))\n",
    "\n",
    "        macro_precision = sum(precisions) / len(class_labels)\n",
    "        macro_recall = sum(recalls) / len(class_labels)\n",
    "        macro_f1 = sum(f1_scores) / len(class_labels)\n",
    "\n",
    "        print(name)\n",
    "        print('%%%%%%%%%%%%%%%%%%%%%%%%%%%%%%%%%%%')\n",
    "        print(f\"Precision macro: {macro_precision}\")\n",
    "        print(f\"Recall macro: {macro_recall}\")\n",
    "        print(f\"F1 Score macro: {macro_f1}\")\n",
    "        print('%%%%%%%%%%%%%%%%%%%%%%%%%%%%%%%%%%%')\n",
    "    except ZeroDivisionError as e:\n",
    "        print(e)\n",
    "        macro_precision, macro_recall, macro_f1 = 0, 0, 0\n",
    "\n",
    "    return [name, macro_precision, macro_recall, macro_f1] + precisions + recalls + f1_scores\n"
   ]
  },
  {
   "cell_type": "code",
   "execution_count": 41,
   "metadata": {},
   "outputs": [
    {
     "name": "stderr",
     "output_type": "stream",
     "text": [
      " 21%|██        | 21/101 [00:04<00:18,  4.34it/s]1146 entities are ignored because their entity spans are invalid due to the truncation of input tokens\n",
      "100%|██████████| 101/101 [00:34<00:00,  2.93it/s]"
     ]
    },
    {
     "name": "stdout",
     "output_type": "stream",
     "text": [
      "nk_LUKE_ner\n",
      "%%%%%%%%%%%%%%%%%%%%%%%%%%%%%%%%%%%\n",
      "Precision macro: 0.7193387051958877\n",
      "Recall macro: 0.5729166666666667\n",
      "F1 Score macro: 0.6352508645800378\n",
      "%%%%%%%%%%%%%%%%%%%%%%%%%%%%%%%%%%%\n"
     ]
    },
    {
     "name": "stderr",
     "output_type": "stream",
     "text": [
      "\n"
     ]
    }
   ],
   "source": [
    "model_nk_finetuned = LukeForEntitySpanClassification.from_pretrained(path_to_models+ model_name_nk_finetuned)\n",
    "\n",
    "# evaluate the model\n",
    "model_nk_finetuned_results = evaluate_luke_model(model_nk_finetuned, model_name_nk_finetuned, test_finetune_dataloader)"
   ]
  },
  {
   "cell_type": "code",
   "execution_count": 42,
   "metadata": {},
   "outputs": [
    {
     "name": "stderr",
     "output_type": "stream",
     "text": [
      " 21%|██        | 21/101 [00:15<00:58,  1.37it/s]1134 entities are ignored because their entity spans are invalid due to the truncation of input tokens\n",
      "100%|██████████| 101/101 [01:50<00:00,  1.09s/it]"
     ]
    },
    {
     "name": "stdout",
     "output_type": "stream",
     "text": [
      "luke-large-finetuned-conll-2003\n",
      "%%%%%%%%%%%%%%%%%%%%%%%%%%%%%%%%%%%\n",
      "Precision macro: 0.7319252220615575\n",
      "Recall macro: 0.8541666666666667\n",
      "F1 Score macro: 0.7879288589797513\n",
      "%%%%%%%%%%%%%%%%%%%%%%%%%%%%%%%%%%%\n"
     ]
    },
    {
     "name": "stderr",
     "output_type": "stream",
     "text": [
      "\n"
     ]
    }
   ],
   "source": [
    "model_conll_2003_results = evaluate_luke_model(model_conll_2003, 'luke-large-finetuned-conll-2003', test_conll_2003_dataloader)"
   ]
  },
  {
   "cell_type": "code",
   "execution_count": 43,
   "metadata": {},
   "outputs": [
    {
     "data": {
      "text/html": [
       "<div>\n",
       "<style scoped>\n",
       "    .dataframe tbody tr th:only-of-type {\n",
       "        vertical-align: middle;\n",
       "    }\n",
       "\n",
       "    .dataframe tbody tr th {\n",
       "        vertical-align: top;\n",
       "    }\n",
       "\n",
       "    .dataframe thead th {\n",
       "        text-align: right;\n",
       "    }\n",
       "</style>\n",
       "<table border=\"1\" class=\"dataframe\">\n",
       "  <thead>\n",
       "    <tr style=\"text-align: right;\">\n",
       "      <th></th>\n",
       "      <th>model_name</th>\n",
       "      <th>macro_precision</th>\n",
       "      <th>macro_recall</th>\n",
       "      <th>macro_f1</th>\n",
       "      <th>p_PER</th>\n",
       "      <th>p_ORG</th>\n",
       "      <th>r_PER</th>\n",
       "      <th>r_ORG</th>\n",
       "      <th>f1_PER</th>\n",
       "      <th>f1_ORG</th>\n",
       "    </tr>\n",
       "  </thead>\n",
       "  <tbody>\n",
       "    <tr>\n",
       "      <th>0</th>\n",
       "      <td>nk_LUKE_ner</td>\n",
       "      <td>0.719339</td>\n",
       "      <td>0.572917</td>\n",
       "      <td>0.635251</td>\n",
       "      <td>0.779661</td>\n",
       "      <td>0.659016</td>\n",
       "      <td>0.547619</td>\n",
       "      <td>0.598214</td>\n",
       "      <td>0.643357</td>\n",
       "      <td>0.627145</td>\n",
       "    </tr>\n",
       "    <tr>\n",
       "      <th>1</th>\n",
       "      <td>luke-large-finetuned-conll-2003</td>\n",
       "      <td>0.731925</td>\n",
       "      <td>0.854167</td>\n",
       "      <td>0.787929</td>\n",
       "      <td>0.808511</td>\n",
       "      <td>0.655340</td>\n",
       "      <td>0.904762</td>\n",
       "      <td>0.803571</td>\n",
       "      <td>0.853933</td>\n",
       "      <td>0.721925</td>\n",
       "    </tr>\n",
       "  </tbody>\n",
       "</table>\n",
       "</div>"
      ],
      "text/plain": [
       "                        model_name  macro_precision  macro_recall  macro_f1  \\\n",
       "0                      nk_LUKE_ner         0.719339      0.572917  0.635251   \n",
       "1  luke-large-finetuned-conll-2003         0.731925      0.854167  0.787929   \n",
       "\n",
       "      p_PER     p_ORG     r_PER     r_ORG    f1_PER    f1_ORG  \n",
       "0  0.779661  0.659016  0.547619  0.598214  0.643357  0.627145  \n",
       "1  0.808511  0.655340  0.904762  0.803571  0.853933  0.721925  "
      ]
     },
     "execution_count": 43,
     "metadata": {},
     "output_type": "execute_result"
    }
   ],
   "source": [
    "results.loc[len(results)] = model_nk_finetuned_results\n",
    "results.loc[len(results)] = model_conll_2003_results\n",
    "results"
   ]
  },
  {
   "cell_type": "markdown",
   "metadata": {},
   "source": [
    "## 6. NER, LUKE: Inference"
   ]
  },
  {
   "cell_type": "code",
   "execution_count": 44,
   "metadata": {},
   "outputs": [],
   "source": [
    "def inference(model, tokenizer, number_of_items, dataset, seed=42):\n",
    "\n",
    "    np.random.seed(seed)\n",
    "\n",
    "    l = len(dataset.data)\n",
    "    indx = random.sample(range(l), number_of_items)\n",
    "\n",
    "    for i in indx:\n",
    "            text, entity_spans, entities, labels = dataset.return_item(i)\n",
    "            model_entity_spans = dataset.return_entity_span(i)\n",
    "\n",
    "            inputs = tokenizer(text, entity_spans=model_entity_spans, max_entity_length=len(model_entity_spans), return_tensors=\"pt\")\n",
    "            outputs = model(**inputs)\n",
    "\n",
    "            logits = outputs.logits\n",
    "            \n",
    "            print(\"Sentence:\", text)\n",
    "            ground_truth = ''\n",
    "            for span, label in zip(entity_spans, labels):\n",
    "                 ground_truth += text[span[0]:span[1]] + ' ' + label + ', '\n",
    "            \n",
    "            print(\"Ground truth labels: \", ground_truth)\n",
    "\n",
    "            predicted_class_indices = logits.argmax(-1).squeeze().tolist()\n",
    "            \n",
    "            for span, predicted_class_idx in zip(model_entity_spans, predicted_class_indices):\n",
    "                predicted_label = model.config.id2label[predicted_class_idx]\n",
    "                if predicted_label in ['ORG', 'PER']:\n",
    "                    print(f\"Entity: {text[span[0]:span[1]]}, Predicted Label: {predicted_label}\")\n",
    "\n",
    "            print('%%%%%%%%%%%%%%%%%%%%%%%%%%%%%%%%%%%')"
   ]
  },
  {
   "cell_type": "code",
   "execution_count": 45,
   "metadata": {},
   "outputs": [
    {
     "name": "stdout",
     "output_type": "stream",
     "text": [
      "Sentence: Exclusive: Why Ruben Amorim is emerging as the favourite for the Liverpool job, according to expert.\n",
      "Ground truth labels:  Ruben Amorim PER, Liverpool ORG, \n",
      "Entity: Why Ruben Amorim, Predicted Label: PER\n",
      "Entity: Ruben Amorim, Predicted Label: PER\n",
      "%%%%%%%%%%%%%%%%%%%%%%%%%%%%%%%%%%%\n",
      "Sentence: Switzerland lays out new 'too big to fail' rules in wake of Credit Suisse banking turmoil last year.\n",
      "Ground truth labels:  Credit Suisse ORG, \n",
      "Entity: Credit Suisse, Predicted Label: ORG\n",
      "%%%%%%%%%%%%%%%%%%%%%%%%%%%%%%%%%%%\n",
      "Sentence: Centaur Media is a London-based business consultancy group, with a market capitalisation of GBP81.1 million.\n",
      "Ground truth labels:  Centaur Media ORG, \n",
      "Entity: Centaur Media, Predicted Label: ORG\n",
      "%%%%%%%%%%%%%%%%%%%%%%%%%%%%%%%%%%%\n",
      "Sentence: VYRE Network announces a groundbreaking partnership with Triad Entertainment Network starting with the much-anticipated HBCU Boxing League......\n",
      "Ground truth labels:  VYRE Network ORG, Triad Entertainment Network ORG, \n",
      "Entity: VYRE Network, Predicted Label: ORG\n",
      "Entity: Triad Entertainment Network, Predicted Label: ORG\n",
      "%%%%%%%%%%%%%%%%%%%%%%%%%%%%%%%%%%%\n",
      "Sentence: Stiell cited governments of the world facing a 2025 deadline to submit new and stronger climate plans to curb carbon pollution, nearly half of the world's populations voting in some kind of elections this year, and crucial global finance meetings later this month in Washington.\n",
      "Ground truth labels:  Stiell PER, \n",
      "Entity: Stiell, Predicted Label: PER\n",
      "%%%%%%%%%%%%%%%%%%%%%%%%%%%%%%%%%%%\n"
     ]
    }
   ],
   "source": [
    "inference(model_nk_finetuned, tokenizer_luke_base, 5, test_finetune_dataset)"
   ]
  },
  {
   "cell_type": "code",
   "execution_count": 46,
   "metadata": {},
   "outputs": [
    {
     "name": "stdout",
     "output_type": "stream",
     "text": [
      "Sentence: The company, called Sealenic, has already partnered with three shipping companies – Reederei F. Laeisz, Fairplay Towage, and Harren Ship Management.\n",
      "Ground truth labels:  Sealenic ORG, Reederei F. Laeisz ORG, Fairplay Towage ORG, Harren Ship Management ORG, \n",
      "Entity: Sealenic, Predicted Label: ORG\n",
      "Entity: Reederei F. Laeisz, Predicted Label: ORG\n",
      "Entity: Fairplay Towage, Predicted Label: ORG\n",
      "Entity: Harren Ship Management, Predicted Label: ORG\n",
      "%%%%%%%%%%%%%%%%%%%%%%%%%%%%%%%%%%%\n",
      "Sentence: Intertronics, a supplier of adhesives, coatings, sealants, and equipment for manufacturing and technology applications, has completed on the purchase of Dyne Testing Ltd, a UK manufacturer and supplier of surface measurement technology.\n",
      "Ground truth labels:  Intertronics ORG, Dyne Testing Ltd ORG, \n",
      "Entity: Intertronics, Predicted Label: ORG\n",
      "Entity: Dyne Testing Ltd, Predicted Label: ORG\n",
      "%%%%%%%%%%%%%%%%%%%%%%%%%%%%%%%%%%%\n",
      "Sentence: IDIS Americas Makes Industry Debut At ISC West With Comprehensive Portfolio Of Video Solutions.\n",
      "Ground truth labels:  IDIS Americas ORG, \n",
      "Entity: IDIS Americas, Predicted Label: ORG\n",
      "%%%%%%%%%%%%%%%%%%%%%%%%%%%%%%%%%%%\n",
      "Sentence: NEW YORK--(BUSINESS WIRE)--Invisible Urban Charging (IUC), a pioneer in charging-as-a-service solutions, announced today that it has entered into an agreement with CBRE Group, Inc., the world's largest commercial real estate services and investment company, to support a nationwide rollout ...\n",
      "Ground truth labels:  Invisible Urban Charging ORG, IUC ORG, CBRE Group, Inc. ORG, \n",
      "Entity: BUSINESS WIRE, Predicted Label: ORG\n",
      "Entity: Invisible Urban Charging, Predicted Label: ORG\n",
      "Entity: IUC, Predicted Label: ORG\n",
      "Entity: CBRE Group, Inc., Predicted Label: ORG\n",
      "Entity: CBRE Group, Inc, Predicted Label: ORG\n",
      "%%%%%%%%%%%%%%%%%%%%%%%%%%%%%%%%%%%\n",
      "Sentence: Auree launches online with John Lewis.\n",
      "Ground truth labels:  Auree ORG, John Lewis ORG, \n",
      "Entity: Auree, Predicted Label: ORG\n",
      "Entity: John Lewis, Predicted Label: ORG\n",
      "%%%%%%%%%%%%%%%%%%%%%%%%%%%%%%%%%%%\n"
     ]
    }
   ],
   "source": [
    "inference(model_conll_2003, tokenizer_conll_2003, 5, test_conll_2003_dataset)"
   ]
  },
  {
   "cell_type": "markdown",
   "metadata": {},
   "source": [
    "# NER, spaCy"
   ]
  },
  {
   "cell_type": "markdown",
   "metadata": {},
   "source": [
    "## 1. NER, spaCy: Data preparation"
   ]
  },
  {
   "cell_type": "code",
   "execution_count": 47,
   "metadata": {},
   "outputs": [],
   "source": [
    "def convert_df_spacy(df):\n",
    "    \"\"\"Coverts dataframe to lits of tuples\"\"\"\n",
    "    result = []\n",
    "\n",
    "    for row in df.itertuples():\n",
    "        text = row.text\n",
    "        entities = []\n",
    "\n",
    "        for index, entity_span in enumerate(row.entity_spans):\n",
    "            entities.append((entity_span[0], entity_span[1], row.labels[index]))\n",
    "\n",
    "        result.append({'text':text, 'entities':entities})\n",
    "\n",
    "    return result\n",
    "\n",
    "\n",
    "def convert_to_DocBin(data, path):\n",
    "\n",
    "    nlp = spacy.blank(\"en\")\n",
    "    doc_bin = DocBin()\n",
    "\n",
    "    for training_example in tqdm(data):\n",
    "        text = training_example['text']\n",
    "        labels = training_example['entities']\n",
    "        doc = nlp.make_doc(text)\n",
    "        ents = []\n",
    "\n",
    "        for start, end, label in labels:\n",
    "            span = doc.char_span(start, end, label=label, alignment_mode=\"contract\")\n",
    "            if span is None:\n",
    "                print(\"Skipping entity\")\n",
    "            else:\n",
    "                ents.append(span)\n",
    "        filtered_ents = filter_spans(ents)\n",
    "        doc.ents = filtered_ents\n",
    "\n",
    "        doc_bin.add(doc)\n",
    "\n",
    "    doc_bin.to_disk( path_to_models + \"nk_spaCy_ner/\" + path +\".spacy\")\n"
   ]
  },
  {
   "cell_type": "code",
   "execution_count": 48,
   "metadata": {},
   "outputs": [
    {
     "name": "stderr",
     "output_type": "stream",
     "text": [
      " 58%|█████▊    | 219/379 [00:00<00:00, 2186.46it/s]"
     ]
    },
    {
     "name": "stdout",
     "output_type": "stream",
     "text": [
      "Skipping entity\n"
     ]
    },
    {
     "name": "stderr",
     "output_type": "stream",
     "text": [
      "100%|██████████| 379/379 [00:00<00:00, 2274.29it/s]\n"
     ]
    },
    {
     "name": "stdout",
     "output_type": "stream",
     "text": [
      "Skipping entity\n",
      "Skipping entity\n",
      "Skipping entity\n",
      "Skipping entity\n",
      "Skipping entity\n"
     ]
    },
    {
     "name": "stderr",
     "output_type": "stream",
     "text": [
      " 92%|█████████▏| 185/201 [00:00<00:00, 1845.59it/s]"
     ]
    },
    {
     "name": "stdout",
     "output_type": "stream",
     "text": [
      "Skipping entity\n",
      "Skipping entity\n"
     ]
    },
    {
     "name": "stderr",
     "output_type": "stream",
     "text": [
      "100%|██████████| 201/201 [00:00<00:00, 1831.63it/s]"
     ]
    },
    {
     "name": "stdout",
     "output_type": "stream",
     "text": [
      "Skipping entity\n",
      "Skipping entity\n"
     ]
    },
    {
     "name": "stderr",
     "output_type": "stream",
     "text": [
      "\n"
     ]
    }
   ],
   "source": [
    "spacy_train_list = convert_df_spacy(train_df)\n",
    "spacy_test_list = convert_df_spacy(test_df)\n",
    "\n",
    "convert_to_DocBin(spacy_train_list, 'train')\n",
    "convert_to_DocBin(spacy_test_list, 'test')"
   ]
  },
  {
   "cell_type": "markdown",
   "metadata": {},
   "source": [
    "## 2. NER, spaCy: Training"
   ]
  },
  {
   "cell_type": "markdown",
   "metadata": {},
   "source": [
    "    python3 -m spacy download en_core_web_lg   \n",
    "    python3 -m spacy init fill-config nk_spaCy_ner/base_config.cfg nk_spaCy_ner/config.cfg  \n",
    "    python3 -m spacy debug data nk_spaCy_ner/config.cfg  \n",
    "    python3 -m spacy train nk_spaCy_ner/config.cfg --output nk_spaCy_ner/output --paths.train nk_spaCy_ner/train.spacy  --paths.dev nk_spaCy_ner/test.spacy "
   ]
  },
  {
   "cell_type": "markdown",
   "metadata": {},
   "source": [
    "## 2. NER, spaCy: Evaluation"
   ]
  },
  {
   "cell_type": "code",
   "execution_count": 49,
   "metadata": {},
   "outputs": [],
   "source": [
    "\n",
    "def evaluate_spacy_model(nlp, name, test_data):\n",
    "    spacy_ner_to_labels = {'PERSON':1, 'PER':1, 'ORG':2}\n",
    "\n",
    "    class_labels = [1, 2]\n",
    "\n",
    "    TP = {1:0, 2:0}\n",
    "    FP = {1:0, 2:0}\n",
    "    FN = {1:0, 2:0}\n",
    "\n",
    "    precisions = []\n",
    "    recalls = []\n",
    "    f1_scores = []\n",
    "\n",
    "    for item in tqdm(test_data):\n",
    "        text = item['text']\n",
    "        annotations = item['entities']\n",
    "\n",
    "        doc = nlp(text)\n",
    "\n",
    "        gold_entities = {(ent[0], ent[1]): label2id[ent[2]] for ent in annotations}\n",
    "        pred_entities = {\n",
    "            (ent.start_char, ent.end_char): spacy_ner_to_labels[ent.label_]\n",
    "            for ent in doc.ents if ent.label_ in ['PERSON', 'PER', 'ORG']\n",
    "        }\n",
    "\n",
    "        # calculate metrix for 'ORG' and 'PER' true labels\n",
    "        for gold_start_end, gold_label in gold_entities.items(): \n",
    "            if gold_start_end not in pred_entities: # calculate false negatives for undetected entities\n",
    "                FN[gold_label] = FN[gold_label] + 1\n",
    "            elif gold_start_end in pred_entities:\n",
    "                if gold_label == pred_entities[gold_start_end]: # true positive, as predicted class matches the truth\n",
    "                    TP[gold_label] = TP[gold_label] + 1\n",
    "                else: # calculate flase neganives and false positives\n",
    "                    FP[pred_entities[gold_start_end]] = FP[pred_entities[gold_start_end]] + 1\n",
    "                    FN[gold_label] = FN[gold_label] + 1\n",
    "\n",
    "        # calculate false positives for wrongly classified enties\n",
    "        for start_end, label in pred_entities.items():\n",
    "            if start_end not in gold_entities:\n",
    "                FP[label] = FN[label] + 1\n",
    "\n",
    "\n",
    "    try:\n",
    "        for class_ in class_labels:\n",
    "            precision_class = TP[class_] / (TP[class_] + FP[class_])\n",
    "            recall_class = TP[class_] / (TP[class_] + FN[class_])\n",
    "\n",
    "            precisions.append(precision_class)\n",
    "            recalls.append(recall_class)\n",
    "            f1_scores.append(2 * precision_class * recall_class / (precision_class + recall_class))\n",
    "\n",
    "        macro_precision = sum(precisions) / len(class_labels)\n",
    "        macro_recall = sum(recalls) / len(class_labels)\n",
    "        macro_f1 = sum(f1_scores) / len(class_labels)\n",
    "\n",
    "        print(name)\n",
    "        print('%%%%%%%%%%%%%%%%%%%%%%%%%%%%%%%%%%%')\n",
    "        print(f\"Precision macro: {macro_precision}\")\n",
    "        print(f\"Recall macro: {macro_recall}\")\n",
    "        print(f\"F1 Score macro: {macro_f1}\")\n",
    "        print('%%%%%%%%%%%%%%%%%%%%%%%%%%%%%%%%%%%')\n",
    "    except ZeroDivisionError as e:\n",
    "        print(e)\n",
    "        macro_precision, macro_recall, macro_f1 = 0, 0, 0\n",
    "\n",
    "    return [name, macro_precision, macro_recall, macro_f1] + precisions + recalls + f1_scores"
   ]
  },
  {
   "cell_type": "code",
   "execution_count": 50,
   "metadata": {},
   "outputs": [
    {
     "name": "stderr",
     "output_type": "stream",
     "text": [
      "100%|██████████| 201/201 [00:03<00:00, 62.82it/s]"
     ]
    },
    {
     "name": "stdout",
     "output_type": "stream",
     "text": [
      "spacy_finetuned\n",
      "%%%%%%%%%%%%%%%%%%%%%%%%%%%%%%%%%%%\n",
      "Precision macro: 0.8225578519696166\n",
      "Recall macro: 0.8244047619047619\n",
      "F1 Score macro: 0.8234581332201201\n",
      "%%%%%%%%%%%%%%%%%%%%%%%%%%%%%%%%%%%\n"
     ]
    },
    {
     "name": "stderr",
     "output_type": "stream",
     "text": [
      "\n"
     ]
    }
   ],
   "source": [
    "spacy_ner_finetuned = spacy.load(path_to_models + 'nk_spaCy_ner/model-best')\n",
    "spacy_ner = spacy.load('en_core_web_lg')\n",
    "\n",
    "spacy_results_finetuned = evaluate_spacy_model(spacy_ner_finetuned, 'spacy_finetuned', spacy_test_list)"
   ]
  },
  {
   "cell_type": "code",
   "execution_count": 51,
   "metadata": {},
   "outputs": [
    {
     "name": "stderr",
     "output_type": "stream",
     "text": [
      "100%|██████████| 201/201 [00:01<00:00, 107.07it/s]"
     ]
    },
    {
     "name": "stdout",
     "output_type": "stream",
     "text": [
      "spacy_en_core_web_lg\n",
      "%%%%%%%%%%%%%%%%%%%%%%%%%%%%%%%%%%%\n",
      "Precision macro: 0.6026671727279\n",
      "Recall macro: 0.6116071428571428\n",
      "F1 Score macro: 0.6070885412114325\n",
      "%%%%%%%%%%%%%%%%%%%%%%%%%%%%%%%%%%%\n"
     ]
    },
    {
     "name": "stderr",
     "output_type": "stream",
     "text": [
      "\n"
     ]
    }
   ],
   "source": [
    "spacy_results = evaluate_spacy_model(spacy_ner, 'spacy_en_core_web_lg', spacy_test_list)"
   ]
  },
  {
   "cell_type": "code",
   "execution_count": 52,
   "metadata": {},
   "outputs": [
    {
     "data": {
      "text/html": [
       "<div>\n",
       "<style scoped>\n",
       "    .dataframe tbody tr th:only-of-type {\n",
       "        vertical-align: middle;\n",
       "    }\n",
       "\n",
       "    .dataframe tbody tr th {\n",
       "        vertical-align: top;\n",
       "    }\n",
       "\n",
       "    .dataframe thead th {\n",
       "        text-align: right;\n",
       "    }\n",
       "</style>\n",
       "<table border=\"1\" class=\"dataframe\">\n",
       "  <thead>\n",
       "    <tr style=\"text-align: right;\">\n",
       "      <th></th>\n",
       "      <th>model_name</th>\n",
       "      <th>macro_precision</th>\n",
       "      <th>macro_recall</th>\n",
       "      <th>macro_f1</th>\n",
       "      <th>p_PER</th>\n",
       "      <th>p_ORG</th>\n",
       "      <th>r_PER</th>\n",
       "      <th>r_ORG</th>\n",
       "      <th>f1_PER</th>\n",
       "      <th>f1_ORG</th>\n",
       "    </tr>\n",
       "  </thead>\n",
       "  <tbody>\n",
       "    <tr>\n",
       "      <th>0</th>\n",
       "      <td>nk_LUKE_ner</td>\n",
       "      <td>0.719339</td>\n",
       "      <td>0.572917</td>\n",
       "      <td>0.635251</td>\n",
       "      <td>0.779661</td>\n",
       "      <td>0.659016</td>\n",
       "      <td>0.547619</td>\n",
       "      <td>0.598214</td>\n",
       "      <td>0.643357</td>\n",
       "      <td>0.627145</td>\n",
       "    </tr>\n",
       "    <tr>\n",
       "      <th>1</th>\n",
       "      <td>luke-large-finetuned-conll-2003</td>\n",
       "      <td>0.731925</td>\n",
       "      <td>0.854167</td>\n",
       "      <td>0.787929</td>\n",
       "      <td>0.808511</td>\n",
       "      <td>0.655340</td>\n",
       "      <td>0.904762</td>\n",
       "      <td>0.803571</td>\n",
       "      <td>0.853933</td>\n",
       "      <td>0.721925</td>\n",
       "    </tr>\n",
       "    <tr>\n",
       "      <th>2</th>\n",
       "      <td>spacy_finetuned</td>\n",
       "      <td>0.822558</td>\n",
       "      <td>0.824405</td>\n",
       "      <td>0.823458</td>\n",
       "      <td>0.882353</td>\n",
       "      <td>0.762763</td>\n",
       "      <td>0.892857</td>\n",
       "      <td>0.755952</td>\n",
       "      <td>0.887574</td>\n",
       "      <td>0.759342</td>\n",
       "    </tr>\n",
       "    <tr>\n",
       "      <th>3</th>\n",
       "      <td>spacy_en_core_web_lg</td>\n",
       "      <td>0.602667</td>\n",
       "      <td>0.611607</td>\n",
       "      <td>0.607089</td>\n",
       "      <td>0.686047</td>\n",
       "      <td>0.519288</td>\n",
       "      <td>0.702381</td>\n",
       "      <td>0.520833</td>\n",
       "      <td>0.694118</td>\n",
       "      <td>0.520059</td>\n",
       "    </tr>\n",
       "  </tbody>\n",
       "</table>\n",
       "</div>"
      ],
      "text/plain": [
       "                        model_name  macro_precision  macro_recall  macro_f1  \\\n",
       "0                      nk_LUKE_ner         0.719339      0.572917  0.635251   \n",
       "1  luke-large-finetuned-conll-2003         0.731925      0.854167  0.787929   \n",
       "2                  spacy_finetuned         0.822558      0.824405  0.823458   \n",
       "3             spacy_en_core_web_lg         0.602667      0.611607  0.607089   \n",
       "\n",
       "      p_PER     p_ORG     r_PER     r_ORG    f1_PER    f1_ORG  \n",
       "0  0.779661  0.659016  0.547619  0.598214  0.643357  0.627145  \n",
       "1  0.808511  0.655340  0.904762  0.803571  0.853933  0.721925  \n",
       "2  0.882353  0.762763  0.892857  0.755952  0.887574  0.759342  \n",
       "3  0.686047  0.519288  0.702381  0.520833  0.694118  0.520059  "
      ]
     },
     "execution_count": 52,
     "metadata": {},
     "output_type": "execute_result"
    }
   ],
   "source": [
    "results.loc[len(results)] = spacy_results_finetuned\n",
    "results.loc[len(results)] = spacy_results\n",
    "results"
   ]
  },
  {
   "cell_type": "code",
   "execution_count": 38,
   "metadata": {},
   "outputs": [],
   "source": [
    "results.to_csv(path_to_results + 'named_entity_recognition_18_06_2024.csv', index=False)"
   ]
  },
  {
   "cell_type": "markdown",
   "metadata": {},
   "source": [
    "## 3. NER, spaCy: Inference"
   ]
  },
  {
   "cell_type": "code",
   "execution_count": 53,
   "metadata": {},
   "outputs": [],
   "source": [
    "def spacy_inference(model, number_of_items, test_list, seed=42):\n",
    "\n",
    "    spacy_ner_to_labels = {'PERSON':1, 'PER':1, 'ORG':2}\n",
    "\n",
    "    np.random.seed(seed)\n",
    "\n",
    "    l = len(test_list)\n",
    "    indx = random.sample(range(l), number_of_items)\n",
    "\n",
    "    for i in indx:\n",
    "        test_text = test_list[i]['text']\n",
    "        test_entities = test_list[i]['entities']\n",
    "\n",
    "        doc = model(test_text)\n",
    "    \n",
    "        print(\"Sentence:\", test_text)\n",
    "        ground_truth = ''\n",
    "        for entity in test_entities:\n",
    "            ground_truth += test_text[entity[0]:entity[1]] + ' ' + entity[2] + ', '\n",
    "        \n",
    "        print(\"Ground truth labels: \", ground_truth)\n",
    "\n",
    "        for ent in doc.ents:\n",
    "            if ent.label_ in spacy_ner_to_labels:\n",
    "                print(f\"Entity: {test_text[ent.start_char: ent.end_char]}, Predicted Label: {ent.label_}\")\n",
    "\n",
    "        print('%%%%%%%%%%%%%%%%%%%%%%%%%%%%%%%%%%%')\n",
    "        "
   ]
  },
  {
   "cell_type": "code",
   "execution_count": 54,
   "metadata": {},
   "outputs": [
    {
     "name": "stdout",
     "output_type": "stream",
     "text": [
      "Sentence: The campaign, led by current and former staff at tech giant Google, began as a murmur; it was initiated by a few pro-BDS (boycott, divestment and sanctions) workers who thought they could leverage the ubiquitous name of their employer to attack Israel.\n",
      "Ground truth labels:  Google ORG, \n",
      "Entity: Google, Predicted Label: ORG\n",
      "%%%%%%%%%%%%%%%%%%%%%%%%%%%%%%%%%%%\n",
      "Sentence: (marketscreener.com) John Marshall Bank , subsidiary of John Marshall Bancorp, Inc. , is proud to announce the recent hire of Sean Biehl as Vice President, Commercial Lender in Fairfax, Loudoun, and Prince William County.\n",
      "Ground truth labels:  John Marshall Bank ORG, John Marshall Bancorp, Inc. ORG, Sean Biehl PER, \n",
      "Entity: John Marshall Bank, Predicted Label: ORG\n",
      "Entity: John Marshall Bancorp, Inc., Predicted Label: ORG\n",
      "Entity: Sean Biehl, Predicted Label: PER\n",
      "%%%%%%%%%%%%%%%%%%%%%%%%%%%%%%%%%%%\n",
      "Sentence: The expansion into the Maryland, Ohio, Pennsylvania and New York markets follows a recent collaboration in New Jersey and Massachusetts, Jesse Channon, president of The Cannabist Company, said.\n",
      "Ground truth labels:  Jesse Channon PER, The Cannabist Company ORG, \n",
      "Entity: Jesse Channon, Predicted Label: PER\n",
      "Entity: The Cannabist Company, Predicted Label: ORG\n",
      "%%%%%%%%%%%%%%%%%%%%%%%%%%%%%%%%%%%\n",
      "Sentence: Top End Energy Advances Low-Carbon Vision.\n",
      "Ground truth labels:  Top End Energy ORG, \n",
      "%%%%%%%%%%%%%%%%%%%%%%%%%%%%%%%%%%%\n",
      "Sentence: On the back of successful franchise acquisitions in the United States and France , Roche Bobois SA...https://www.marketscreener.com/quote/stock/ROCHE-BOBOIS-S-A-44531649/news/Roche-Bobois-S-a-ROCHE-BOBOIS-STEPS-UP-ITS-PRESENCE-IN-CHINA-LETTER-OF-INTENT-SIGNED-TO-ACQU-46401082/?utm_medium=RSS&utm_content=20240410\n",
      "Ground truth labels:  Roche Bobois SA ORG, \n",
      "Entity: Roche Bobois SA...https://www.marketscreener.com/quote/stock/ROCHE-BOBOIS-S-A-44531649/news/Roche-Bobois-S-a-ROCHE-BOBOIS-STEPS-UP-ITS-PRESENCE-IN-CHINA-LETTER-OF-INTENT-SIGNED-TO-ACQU-46401082/?utm_medium=RSS&utm_content=20240410, Predicted Label: PER\n",
      "%%%%%%%%%%%%%%%%%%%%%%%%%%%%%%%%%%%\n"
     ]
    }
   ],
   "source": [
    "spacy_inference(spacy_ner_finetuned, 5, spacy_test_list)"
   ]
  },
  {
   "cell_type": "code",
   "execution_count": 55,
   "metadata": {},
   "outputs": [
    {
     "name": "stdout",
     "output_type": "stream",
     "text": [
      "Sentence: Geopulse Exploration, Inc. Acquires 50% of ATC Services.\n",
      "Ground truth labels:  Geopulse Exploration, Inc. ORG, ATC Services ORG, \n",
      "Entity: Geopulse Exploration, Inc., Predicted Label: ORG\n",
      "Entity: ATC Services, Predicted Label: ORG\n",
      "%%%%%%%%%%%%%%%%%%%%%%%%%%%%%%%%%%%\n",
      "Sentence: He simply could not tell the orchestra that they were being made redundant with such short notice.However, after heated discussions, good news arrives.In the end, the Commander-in-Chief agreed that salaries would be paid for two more years but the orchestra was to be transferred to the Manoel Theatre and become the Manoel Theatre Orchestra.\n",
      "Ground truth labels:  Commander-in-Chief ORG, Manoel Theatre ORG, Manoel Theatre Orchestra ORG, \n",
      "Entity: the Manoel Theatre, Predicted Label: ORG\n",
      "Entity: the Manoel Theatre Orchestra, Predicted Label: ORG\n",
      "%%%%%%%%%%%%%%%%%%%%%%%%%%%%%%%%%%%\n",
      "Sentence: (marketscreener.com) Paris, 10 April 2024 Roche Bobois SA , the global benchmark in high-end home furnishings and French Art de Vivre, announces that it has signed a letter of intent to acquire a majority interest in its franchised Roche Bobois store in China.\n",
      "Ground truth labels:  Roche Bobois SA ORG, Roche Bobois ORG, \n",
      "Entity: Roche Bobois SA, Predicted Label: ORG\n",
      "Entity: Art de Vivre, Predicted Label: ORG\n",
      "Entity: Roche Bobois, Predicted Label: ORG\n",
      "%%%%%%%%%%%%%%%%%%%%%%%%%%%%%%%%%%%\n",
      "Sentence: Switzerland protecting economy and taxpayers with.... ZURICH, April 10 (Reuters) - Switzerland is acting to  protect taxpayers and its economy after the merger of UBS  and Credit Suisse left it with only one...\n",
      "Ground truth labels:  UBS ORG, Credit Suisse ORG, \n",
      "Entity: ZURICH, Predicted Label: ORG\n",
      "Entity: Reuters, Predicted Label: ORG\n",
      "Entity: UBS, Predicted Label: ORG\n",
      "Entity: Credit Suisse, Predicted Label: ORG\n",
      "%%%%%%%%%%%%%%%%%%%%%%%%%%%%%%%%%%%\n",
      "Sentence: TESLA NETWORKING.\n",
      "Ground truth labels:  TESLA ORG, \n",
      "%%%%%%%%%%%%%%%%%%%%%%%%%%%%%%%%%%%\n"
     ]
    }
   ],
   "source": [
    "spacy_inference(spacy_ner, 5, spacy_test_list)"
   ]
  },
  {
   "cell_type": "markdown",
   "metadata": {},
   "source": [
    "# Tests"
   ]
  },
  {
   "cell_type": "code",
   "execution_count": null,
   "metadata": {},
   "outputs": [],
   "source": [
    "def test_ner_evaluation():\n",
    "    \n",
    "    true_labels = ['ORG', 'NIL', 'PER', 'NIL', 'NIL', 'ORG', 'NIL', 'ORG', 'PER', 'NIL', 'ORG']\n",
    "    pred_labels = ['ORG', 'NIL', 'PER', 'ORG', 'PER', 'PER', 'NIL', 'NIL', 'ORG', 'NIL', 'ORG']\n",
    "\n",
    "\n",
    "    class_labels = ['ORG', 'PER']\n",
    "\n",
    "    TP = {'ORG':0, 'PER':0}\n",
    "    FP = {'ORG':0, 'PER':0}\n",
    "    FN = {'ORG':0, 'PER':0}\n",
    "\n",
    "    for t, p in zip(true_labels, pred_labels):\n",
    "        if t == p:\n",
    "            if t == 'NIL':\n",
    "                continue\n",
    "            elif t in class_labels:\n",
    "                TP[p] = TP[p] + 1\n",
    "        else:\n",
    "            if t == 'NIL':\n",
    "                FP[p] = FP[p] + 1\n",
    "            elif p == 'NIL':\n",
    "                FN[t] = FN[t] + 1\n",
    "            else:\n",
    "                FP[p] = FP[p] + 1\n",
    "                FN[t] = FN[t] + 1\n",
    "\n",
    "    assert TP == {'ORG':2, 'PER':1}, f\"Expected TP: {{'ORG':2, 'PER':1}}, but got {TP}\"\n",
    "    assert FP == {'ORG':2, 'PER':2}, f\"Expected FP: {{'ORG':2, 'PER':2}}, but got {FP}\"\n",
    "    assert FN == {'ORG':2, 'PER':1}, f\"Expected FN: {{'ORG':2, 'PER':1}}, but got {FN}\"\n",
    "\n",
    "    print(\"All test cases passed!\")\n",
    "\n",
    "test_ner_evaluation()\n"
   ]
  },
  {
   "cell_type": "code",
   "execution_count": null,
   "metadata": {},
   "outputs": [],
   "source": [
    "def test_ner_evaluation_for_entities(gold_entities, pred_entities, class_labels):\n",
    "    TP = {label: 0 for label in class_labels}\n",
    "    FP = {label: 0 for label in class_labels}\n",
    "    FN = {label: 0 for label in class_labels}\n",
    "\n",
    "    # Calculate metrics for 'ORG' and 'PER' true labels\n",
    "    for gold_start_end, gold_label in gold_entities.items():\n",
    "        if gold_start_end not in pred_entities:\n",
    "            FN[gold_label] = FN[gold_label] + 1\n",
    "        elif gold_start_end in pred_entities:\n",
    "            if gold_label == pred_entities[gold_start_end]:\n",
    "                TP[gold_label] = TP[gold_label] + 1\n",
    "            else:\n",
    "                FP[pred_entities[gold_start_end]] = FP[pred_entities[gold_start_end]] + 1\n",
    "                FN[gold_label] = FN[gold_label] + 1\n",
    "\n",
    "    # Calculate false positives for wrongly classified entities\n",
    "    for start_end, label in pred_entities.items():\n",
    "        if start_end not in gold_entities:\n",
    "            FP[label] = FP[label] + 1\n",
    "\n",
    "    return TP, FP, FN\n",
    "\n",
    "# Define the entities\n",
    "gold_entities = {\n",
    "    (0, 3): 'ORG',\n",
    "    (5, 8): 'PER',\n",
    "    (10, 13): 'ORG',\n",
    "    (15, 17): 'ORG',\n",
    "    (35, 38): 'PER',\n",
    "    (40, 42): 'ORG'\n",
    "}\n",
    "\n",
    "pred_entities = {\n",
    "    (0, 3): 'ORG',\n",
    "    (5, 8): 'PER',\n",
    "    (9, 10): 'ORG',\n",
    "    (10, 11): 'PER',\n",
    "    (10, 13): 'PER',\n",
    "    (35, 38): 'ORG',\n",
    "    (40, 42): 'ORG'\n",
    "}\n",
    "\n",
    "class_labels = {'PER', 'ORG'}\n",
    "\n",
    "# Run the test\n",
    "TP, FP, FN = test_ner_evaluation_for_entities(gold_entities, pred_entities, class_labels)\n",
    "\n",
    "# Expected results for validation\n",
    "expected_TP = {'ORG':2, 'PER':1}\n",
    "expected_FP = {'ORG':2, 'PER':2}\n",
    "expected_FN = {'ORG':2, 'PER':1}\n",
    "\n",
    "assert TP == expected_TP, f\"Expected TP: {expected_TP}, but got {TP}\"\n",
    "assert FP == expected_FP, f\"Expected FP: {expected_FP}, but got {FP}\"\n",
    "assert FN == expected_FN, f\"Expected FN: {expected_FN}, but got {FN}\"\n",
    "\n",
    "print(\"All test cases passed!\")\n"
   ]
  },
  {
   "cell_type": "markdown",
   "metadata": {},
   "source": [
    "# Appendix"
   ]
  },
  {
   "cell_type": "markdown",
   "metadata": {},
   "source": [
    "### Hugging face example"
   ]
  },
  {
   "cell_type": "code",
   "execution_count": null,
   "metadata": {},
   "outputs": [],
   "source": [
    "from transformers import AutoTokenizer, LukeForEntitySpanClassification\n",
    "\n",
    "tokenizer = AutoTokenizer.from_pretrained(\"studio-ousia/luke-large-finetuned-conll-2003\")\n",
    "model = LukeForEntitySpanClassification.from_pretrained(\"studio-ousia/luke-large-finetuned-conll-2003\")\n",
    "\n",
    "text = \"Beyoncé lives in Los Angeles\"\n",
    "# List all possible entity spans in the text\n",
    "\n",
    "word_start_positions = [0, 8, 14, 17, 21]  # character-based start positions of word tokens\n",
    "word_end_positions = [7, 13, 16, 20, 28]  # character-based end positions of word tokens\n",
    "entity_spans = []\n",
    "for i, start_pos in enumerate(word_start_positions):\n",
    "    for end_pos in word_end_positions[i:]:\n",
    "        entity_spans.append((start_pos, end_pos))\n",
    "\n",
    "inputs = tokenizer(text, entity_spans=entity_spans, return_tensors=\"pt\")\n",
    "outputs = model(**inputs)\n",
    "logits = outputs.logits\n",
    "predicted_class_indices = logits.argmax(-1).squeeze().tolist()\n",
    "for span, predicted_class_idx in zip(entity_spans, predicted_class_indices):\n",
    "    if predicted_class_idx != 0:\n",
    "        print(text[span[0] : span[1]], model.config.id2label[predicted_class_idx])"
   ]
  }
 ],
 "metadata": {
  "kernelspec": {
   "display_name": "python3_11",
   "language": "python",
   "name": "python3"
  },
  "language_info": {
   "codemirror_mode": {
    "name": "ipython",
    "version": 3
   },
   "file_extension": ".py",
   "mimetype": "text/x-python",
   "name": "python",
   "nbconvert_exporter": "python",
   "pygments_lexer": "ipython3",
   "version": "3.1.-1"
  }
 },
 "nbformat": 4,
 "nbformat_minor": 2
}
